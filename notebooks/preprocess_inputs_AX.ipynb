{
 "cells": [
  {
   "cell_type": "markdown",
   "source": [
    "# Script to add endogenous attributes to input data\n",
    "\n",
    "\n"
   ],
   "metadata": {
    "collapsed": false
   },
   "id": "10ea40e9c7d82005"
  },
  {
   "cell_type": "code",
   "execution_count": 19,
   "outputs": [
    {
     "name": "stdout",
     "output_type": "stream",
     "text": [
      "Processed 'attributes.csv' in subfolder: ../data/20240118_Hydrogen_vAX/set_technologies\\set_conversion_technologies\\anaerobic_digestion and added lines.\n"
     ]
    }
   ],
   "source": [
    "import os\n",
    "import pandas as pd\n",
    "\n",
    "def process_attributes_csv(model_name):\n",
    "    data_folder = f'../data/{model_name}'  # Go back one level to reach the data folder\n",
    "\n",
    "    # Ensure the data folder exists\n",
    "    if not os.path.exists(data_folder):\n",
    "        print(f\"Error: Data folder '{data_folder}' not found.\")\n",
    "        return\n",
    "\n",
    "    # Function to find 'attributes.csv' in subfolders\n",
    "    def find_attributes_csv(folder):\n",
    "        for root, dirs, files in os.walk(folder):\n",
    "            if 'attributes.csv' in files:\n",
    "                return os.path.join(root, 'attributes.csv')\n",
    "        return None\n",
    "\n",
    "    attributes_csv = find_attributes_csv(data_folder)\n",
    "\n",
    "    # Check if the 'attributes.csv' file exists in any subfolder\n",
    "    if attributes_csv is None:\n",
    "        print(f\"Error: 'attributes.csv' not found in any subfolder of '{data_folder}'.\")\n",
    "        return\n",
    "\n",
    "    # Read the 'attributes.csv' file into a DataFrame\n",
    "    df = pd.read_csv(attributes_csv)\n",
    "\n",
    "    # Add the specified lines to the DataFrame\n",
    "    new_lines = [\n",
    "        {'num_pwa_segments_default': ',7,'},\n",
    "        {'learning_rate_default': ',-0.074,'},\n",
    "        {'global_share_default': '1'},\n",
    "        {'learning_curve_lower_bound_default': ', 0,'},\n",
    "        {'learning_curve_upper_bound_default':', 200,'},\n",
    "        {'learning_curve_npts_default': '1000,'},\n",
    "        {'global_initial_capacity_default':', 50,'},\n",
    "    ]\n",
    "\n",
    "    # Use loc to add new rows to the DataFrame\n",
    "    for line in new_lines:\n",
    "        df.loc[len(df)] = line\n",
    "\n",
    "    # Save the modified DataFrame back to the 'attributes.csv' file, overwriting the original content\n",
    "    df.to_csv(attributes_csv, index=False)\n",
    "\n",
    "    print(f\"Processed 'attributes.csv' in subfolder: {os.path.dirname(attributes_csv)} and added lines.\")\n",
    "\n",
    "if __name__ == \"__main__\":\n",
    "    model_name = \"20240118_Hydrogen_vAX/set_technologies\"\n",
    "    process_attributes_csv(model_name)\n"
   ],
   "metadata": {
    "collapsed": false,
    "ExecuteTime": {
     "end_time": "2024-01-19T16:24:08.626789600Z",
     "start_time": "2024-01-19T16:24:08.587632400Z"
    }
   },
   "id": "94d09fed2493380a"
  },
  {
   "cell_type": "markdown",
   "source": [
    "# Initialise data"
   ],
   "metadata": {
    "collapsed": false
   },
   "id": "175e97c45ed3f1fe"
  },
  {
   "cell_type": "code",
   "execution_count": 1,
   "outputs": [],
   "source": [
    "import numpy as np\n",
    "%matplotlib inline\n",
    "\n",
    "def fun_total_cost(u, c_initial: float, q_initial: float,\n",
    "                           learning_rate: float) -> object:  # u is a vector\n",
    "            \"\"\"\n",
    "            Total cumulative Cost for Learning Curve\n",
    "            :param u: Cumulative Capacity\n",
    "            :param c_initial: Initial Cost\n",
    "            :param q_initial: Initital Capacity\n",
    "            :param learning_rate: Learning Rate\n",
    "            :return: Total cumulative cot\n",
    "            \"\"\"\n",
    "            alpha = c_initial / np.power(q_initial, learning_rate)\n",
    "            exp = 1 + learning_rate\n",
    "            TC = alpha / exp * ( np.power(u, exp) )\n",
    "            return TC\n",
    "\n",
    "x_values = np.linspace(0,200, 1000)\n",
    "c_initial = 1/8760 * 761\n",
    "q_initial = 60\n",
    "learning_rate = -0.54\n",
    "y_values = fun_total_cost(x_values, c_initial, q_initial, learning_rate)"
   ],
   "metadata": {
    "collapsed": false,
    "ExecuteTime": {
     "end_time": "2024-02-01T23:05:10.581857800Z",
     "start_time": "2024-02-01T23:05:09.804610800Z"
    }
   },
   "id": "934f5cf84d3a898f"
  },
  {
   "cell_type": "markdown",
   "source": [
    "# Option 1: PWA \n",
    "This can only do the number of segments that are specified in def piecewise_linear"
   ],
   "metadata": {
    "collapsed": false
   },
   "id": "397fd88dc8a1b731"
  },
  {
   "cell_type": "code",
   "execution_count": 5,
   "outputs": [
    {
     "data": {
      "text/plain": "[<matplotlib.lines.Line2D at 0x24ccfc86ad0>]"
     },
     "execution_count": 5,
     "metadata": {},
     "output_type": "execute_result"
    },
    {
     "data": {
      "text/plain": "<Figure size 640x480 with 1 Axes>",
      "image/png": "[encoded data removed]"
     },
     "metadata": {},
     "output_type": "display_data"
    }
   ],
   "source": [
    "from scipy import optimize\n",
    "import matplotlib.pyplot as plt\n",
    "\n",
    "def piecewise_linear(x, x0, y0, k1, k2):\n",
    "    return np.piecewise(x, [x < x0], [lambda x:k1*x + y0-k1*x0, lambda x:k2*x + y0-k2*x0])\n",
    "\n",
    "p , e = optimize.curve_fit(piecewise_linear, x_values, y_values)\n",
    "plt.plot(x_values, y_values)\n",
    "plt.plot(x_values, piecewise_linear(x_values, *p))"
   ],
   "metadata": {
    "collapsed": false,
    "ExecuteTime": {
     "start_time": "2024-01-19T16:44:45.420244200Z"
    }
   },
   "id": "c5babfe806dd7a4"
  },
  {
   "cell_type": "markdown",
   "source": [
    "# Option 2: PWA with multiple segments\n"
   ],
   "metadata": {
    "collapsed": false
   },
   "id": "79c7cd7ca4b07845"
  },
  {
   "cell_type": "code",
   "execution_count": 2,
   "outputs": [
    {
     "name": "stdout",
     "output_type": "stream",
     "text": [
      "\n",
      "                    Breakpoint Regression Results                     \n",
      "====================================================================================================\n",
      "No. Observations                     1000\n",
      "No. Model Parameters                    4\n",
      "Degrees of Freedom                    996\n",
      "Res. Sum of Squares               116.527\n",
      "Total Sum of Squares              20191.0\n",
      "R Squared                        0.994229\n",
      "Adjusted R Squared               0.994206\n",
      "Converged:                           True\n",
      "====================================================================================================\n",
      "====================================================================================================\n",
      "                    Estimate      Std Err            t        P>|t|       [0.025       0.975]\n",
      "----------------------------------------------------------------------------------------------------\n",
      "const                3.03292       0.0442       68.612           0.0       2.9462       3.1197\n",
      "alpha1              0.165452      0.00161       102.64           0.0      0.16229      0.16862\n",
      "beta1              -0.104577      0.00164       -63.91             -     -0.10779     -0.10137\n",
      "breakpoint1          47.5445        0.486            -             -       46.591       48.498\n",
      "----------------------------------------------------------------------------------------------------\n",
      "These alphas(gradients of segments) are estimatedfrom betas(change in gradient)\n",
      "----------------------------------------------------------------------------------------------------\n",
      "alpha2             0.0608754     0.000281       216.35           0.0     0.060323     0.061428\n",
      "====================================================================================================\n",
      "Davies test for existence of at least 1 breakpoint: p=0.0 (e.g. p<0.05 means reject null hypothesis of no breakpoints at 5% significance)\n",
      "\n",
      "\n",
      "\n",
      "                    Breakpoint Regression Results                     \n",
      "====================================================================================================\n",
      "No. Observations                     1000\n",
      "No. Model Parameters                    4\n",
      "Degrees of Freedom                    996\n",
      "Res. Sum of Squares               116.527\n",
      "Total Sum of Squares              20191.0\n",
      "R Squared                        0.994229\n",
      "Adjusted R Squared               0.994206\n",
      "Converged:                           True\n",
      "====================================================================================================\n",
      "====================================================================================================\n",
      "                    Estimate      Std Err            t        P>|t|       [0.025       0.975]\n",
      "----------------------------------------------------------------------------------------------------\n",
      "const                3.03292       0.0442       68.612           0.0       2.9462       3.1197\n",
      "alpha1              0.165452      0.00161       102.64           0.0      0.16229      0.16862\n",
      "beta1              -0.104577      0.00164       -63.91             -     -0.10779     -0.10137\n",
      "breakpoint1          47.5445        0.486            -             -       46.591       48.498\n",
      "----------------------------------------------------------------------------------------------------\n",
      "These alphas(gradients of segments) are estimatedfrom betas(change in gradient)\n",
      "----------------------------------------------------------------------------------------------------\n",
      "alpha2             0.0608754     0.000281       216.35           0.0     0.060323     0.061428\n",
      "====================================================================================================\n",
      "Davies test for existence of at least 1 breakpoint: p=0.0 (e.g. p<0.05 means reject null hypothesis of no breakpoints at 5% significance)\n"
     ]
    },
    {
     "data": {
      "text/plain": "<Figure size 640x480 with 1 Axes>",
      "image/png": "[encoded data removed]"
     },
     "metadata": {},
     "output_type": "display_data"
    }
   ],
   "source": [
    "import piecewise_regression\n",
    "import matplotlib.pyplot as plt\n",
    "\n",
    "pw_fit = piecewise_regression.Fit(x_values, y_values, n_breakpoints=1)\n",
    "pw_fit.summary()\n",
    "\n",
    "# Print a summary of the fit\n",
    "pw_fit.summary()\n",
    "\n",
    "# Plot the data, fit, breakpoints and confidence intervals\n",
    "pw_fit.plot_data(color=\"grey\", s=20)\n",
    "# Pass in standard matplotlib keywords to control any of the plots\n",
    "pw_fit.plot_fit(color=\"red\", linewidth=4)\n",
    "pw_fit.plot_breakpoints()\n",
    "pw_fit.plot_breakpoint_confidence_intervals()\n",
    "plt.xlabel(\"x\")\n",
    "plt.ylabel(\"y\")\n",
    "plt.show()\n",
    "plt.close()"
   ],
   "metadata": {
    "collapsed": false,
    "ExecuteTime": {
     "end_time": "2024-02-01T23:05:41.865824600Z",
     "start_time": "2024-02-01T23:05:26.711864300Z"
    }
   },
   "id": "c66e944f5850ead7"
  },
  {
   "cell_type": "code",
   "execution_count": null,
   "outputs": [],
   "source": [],
   "metadata": {
    "collapsed": false
   },
   "id": "697285ac20e870d5"
  },
  {
   "cell_type": "markdown",
   "source": [
    "# Option 2 (ext): PWA with multiple segements and incremental determination of number of breakpoints"
   ],
   "metadata": {
    "collapsed": false
   },
   "id": "6bf4acc96e6f53fd"
  },
  {
   "cell_type": "code",
   "execution_count": 8,
   "outputs": [
    {
     "name": "stdout",
     "output_type": "stream",
     "text": [
      "Successful fit with 2 breakpoints.\n",
      "Mean squared error is 0.029131041921572412\n"
     ]
    },
    {
     "data": {
      "text/plain": "<Figure size 640x480 with 1 Axes>",
      "image/png": "[encoded data removed]"
     },
     "metadata": {},
     "output_type": "display_data"
    }
   ],
   "source": [
    "import piecewise_regression\n",
    "import matplotlib.pyplot as plt\n",
    "\n",
    "n = 2\n",
    "max_n = 10\n",
    "while n < max_n:\n",
    "    pw_fit = piecewise_regression.Fit(x_values, y_values, n_breakpoints=n)\n",
    "    # check if successful fit\n",
    "    if pw_fit.get_params()[\"converged\"]:\n",
    "        print(f\"Successful fit with {n} breakpoints.\")\n",
    "        x_hat =np.linspace(0, 200, 2000)\n",
    "        y_hat = pw_fit.predict(x_hat)\n",
    "        y_true = fun_total_cost(x_hat, c_initial, q_initial, learning_rate)\n",
    "        mean_sq_error = np.mean(np.power((y_hat - y_true),2))\n",
    "        if mean_sq_error < 0.05:\n",
    "            print(f\"Mean squared error is {mean_sq_error}\")\n",
    "            break\n",
    "        else: \n",
    "            n += 1\n",
    "    else:\n",
    "        print(f\"Failed fit with {n} breakpoints.\")\n",
    "        n -= 1\n",
    "        pw_fit = piecewise_regression.Fit(x_values, y_values, n_breakpoints=n)\n",
    "        break\n",
    "\n",
    "# Plot the data, fit, breakpoints and confidence intervals\n",
    "pw_fit.plot_data(color=\"grey\", s=20)\n",
    "# Pass in standard matplotlib keywords to control any of the plots\n",
    "pw_fit.plot_fit(color=\"red\", linewidth=4)\n",
    "pw_fit.plot_breakpoints()\n",
    "pw_fit.plot_breakpoint_confidence_intervals()\n",
    "plt.xlabel(\"x\")\n",
    "plt.ylabel(\"y\")\n",
    "plt.show()"
   ],
   "metadata": {
    "collapsed": false,
    "ExecuteTime": {
     "end_time": "2024-01-30T08:44:26.663803Z",
     "start_time": "2024-01-30T08:44:12.967695300Z"
    }
   },
   "id": "2da70d013fd7014f"
  },
  {
   "cell_type": "code",
   "execution_count": 10,
   "outputs": [
    {
     "data": {
      "text/plain": "0.9942287687203828"
     },
     "execution_count": 10,
     "metadata": {},
     "output_type": "execute_result"
    }
   ],
   "source": [
    "pw_fit.best_muggeo.best_fit.r_squared"
   ],
   "metadata": {
    "collapsed": false,
    "ExecuteTime": {
     "end_time": "2024-02-01T23:11:17.734901900Z",
     "start_time": "2024-02-01T23:11:17.674820Z"
    }
   },
   "id": "9c8d495da2add4cc"
  },
  {
   "cell_type": "markdown",
   "source": [
    "# Extract the PWA parameters "
   ],
   "metadata": {
    "collapsed": false
   },
   "id": "625b5f7072ec94d1"
  },
  {
   "cell_type": "code",
   "execution_count": 157,
   "outputs": [
    {
     "name": "stdout",
     "output_type": "stream",
     "text": [
      "[0.2761779989592156, 0.09990638532923207, 0.055810576150662414]\n"
     ]
    }
   ],
   "source": [
    "raw_params =  pw_fit.best_muggeo.best_fit.raw_params\n",
    "breakpoints = pw_fit.best_muggeo.best_fit.next_breakpoints\n",
    "\n",
    "# Find TC_interpolated\n",
    "TC_interpolated_first = np.array([raw_params[0]])\n",
    "TC_interpolated_next = pw_fit.predict(breakpoints)\n",
    "TC_interpolated= np.concatenate((TC_interpolated_first, TC_interpolated_next))\n",
    "\n",
    "# Find the y-intersects\n",
    "tossed_params = raw_params[1:]\n",
    "\n",
    "# Initialize with the second entry\n",
    "result = raw_params[1]\n",
    "\n",
    "# List to store intermediate results\n",
    "slope = [result]\n",
    "\n",
    "# Iteratively sum each pair of values in tossed_params with the result from the previous sum\n",
    "for i in range(0, len(breakpoints)):\n",
    "    result +=  tossed_params[i + 1]\n",
    "    slope.append(result)\n",
    "\n",
    "print(slope)\n"
   ],
   "metadata": {
    "collapsed": false,
    "ExecuteTime": {
     "end_time": "2024-01-23T09:17:13.522225700Z",
     "start_time": "2024-01-23T09:17:13.498199900Z"
    }
   },
   "id": "2f8398a550cac76c"
  },
  {
   "cell_type": "markdown",
   "source": [
    "# Extract Parameters lik ein technology.py script"
   ],
   "metadata": {
    "collapsed": false
   },
   "id": "dbf4cc6fa32fa4f9"
  },
  {
   "cell_type": "code",
   "execution_count": 50,
   "outputs": [],
   "source": [
    "raw_params = pw_fit.best_muggeo.best_fit.raw_params\n",
    "breakpoints = pw_fit.best_muggeo.best_fit.next_breakpoints\n",
    "\n",
    "# Find the interpolated_x\n",
    "interpolated_x_first = np.array([x_values[0]])\n",
    "interpolated_x_next = breakpoints\n",
    "interpolated_x_last = np.array([x_values[-1]])\n",
    "interpolated_x = np.concatenate((interpolated_x_first, interpolated_x_next, interpolated_x_last))\n",
    "\n",
    "# Find TC_interpolated\n",
    "TC_interpolated = pw_fit.predict(interpolated_x)\n",
    "\n",
    "# Find the y-intersects\n",
    "tossed_params = raw_params[1:]\n",
    "\n",
    "# Initialise list of slope with first raw param from fit \n",
    "slope = []\n",
    "# Iteratively sum each pair of values in tossed_params with the result from the previous sum\n",
    "result = 0\n",
    "for i in range(0, len(breakpoints)+1):\n",
    "    result += tossed_params[i]\n",
    "    slope.append(result)\n",
    "\n",
    "# Determine intersect\n",
    "intersect = TC_interpolated[:-1] - slope * interpolated_x[:-1]"
   ],
   "metadata": {
    "collapsed": false,
    "ExecuteTime": {
     "end_time": "2024-01-30T09:03:30.201875900Z",
     "start_time": "2024-01-30T09:03:30.176524100Z"
    }
   },
   "id": "fc00f8d5aaf0cbe4"
  },
  {
   "cell_type": "markdown",
   "source": [
    "# Plot the functions "
   ],
   "metadata": {
    "collapsed": false
   },
   "id": "2793c2a986599bd0"
  },
  {
   "cell_type": "code",
   "execution_count": 51,
   "outputs": [
    {
     "data": {
      "text/plain": "<Figure size 640x480 with 1 Axes>",
      "image/png": "[encoded data removed]"
     },
     "metadata": {},
     "output_type": "display_data"
    }
   ],
   "source": [
    "y1 = slope[0]*x_values + intersect[0]\n",
    "y2 = slope[1]*x_values + intersect[1]\n",
    "y3 = slope[2]*x_values + intersect[2]\n",
    "\n",
    "plt.plot(x_values, y1)\n",
    "plt.plot(x_values, y2)\n",
    "plt.plot(x_values, y3)# Pass in standard matplotlib keywords to control any of the plots\n",
    "# Plot the data, fit, breakpoints and confidence intervals\n",
    "pw_fit.plot_data(color=\"grey\", s=20)\n",
    "# Pass in standard matplotlib keywords to control any of the plots\n",
    "pw_fit.plot_fit(color=\"red\", linewidth=4)\n",
    "pw_fit.plot_breakpoints()\n",
    "pw_fit.plot_breakpoint_confidence_intervals()\n",
    "plt.xlabel(\"x\")\n",
    "plt.ylabel(\"y\")\n",
    "plt.ylim(0,20)\n",
    "plt.show()"
   ],
   "metadata": {
    "collapsed": false,
    "ExecuteTime": {
     "end_time": "2024-01-30T09:03:33.459727700Z",
     "start_time": "2024-01-30T09:03:33.235620400Z"
    }
   },
   "id": "acf2adfd67e6e628"
  },
  {
   "cell_type": "markdown",
   "source": [
    "# Add endogenous learning to attributes"
   ],
   "metadata": {
    "collapsed": false
   },
   "id": "b36a969b4689045e"
  },
  {
   "cell_type": "code",
   "execution_count": 180,
   "outputs": [],
   "source": [
    "import os\n",
    "import json\n",
    "\n",
    "def replace_last_two_lines_with_lines(folder_path, file_name, lines_to_replace):\n",
    "    for root, dirs, files in os.walk(folder_path):\n",
    "        for file in files:\n",
    "            if file == file_name and file.lower().endswith('.json'):\n",
    "                file_path = os.path.join(root, file)\n",
    "\n",
    "                with open(file_path, 'r') as f:\n",
    "                    lines = f.readlines()\n",
    "\n",
    "                # Remove the last two lines\n",
    "                lines = lines[:-2]\n",
    "\n",
    "                # Add the new lines with line breaks\n",
    "                lines.extend('\\n'.join(lines_to_replace))\n",
    "\n",
    "                with open(file_path, 'w') as f:\n",
    "                    f.writelines(lines)\n",
    "\n",
    "# Specify the relative path to the folder\n",
    "relative_folder_path = '../data/Test_set_for_preprocessing/set_technologies'\n",
    "\n",
    "# Get the absolute path based on the current working directory\n",
    "absolute_folder_path = os.path.abspath(relative_folder_path)\n",
    "\n",
    "# New lines to replace the last two lines\n",
    "new_lines_to_replace = [\n",
    "    \"\"\"\n",
    "    },\n",
    "    {\n",
    "        \"global_share\": {\n",
    "          \"default_value\": 1.0,\n",
    "          \"unit\": \"1\"\n",
    "        }\n",
    "      },\n",
    "      {\n",
    "        \"learning_curve_lower_bound\": {\n",
    "          \"default_value\": 0.0,\n",
    "          \"unit\": \"1\"\n",
    "        }\n",
    "      },\n",
    "      {\n",
    "        \"learning_curve_upper_bound\": {\n",
    "          \"default_value\": 200.0,\n",
    "          \"unit\": \"1\"\n",
    "        }\n",
    "      },\n",
    "      {\n",
    "        \"learning_curve_npts\": {\n",
    "          \"default_value\": 1000.0,\n",
    "          \"unit\": \"1\"\n",
    "        }\n",
    "      },\n",
    "      {\n",
    "        \"global_initial_capacity\": {\n",
    "          \"default_value\": 50.0,\n",
    "          \"unit\": \"GW\"\n",
    "        }\n",
    "      }\n",
    "    ]\"\"\"\n",
    "    ]\n",
    "\n",
    "# Example usage:\n",
    "file_name = 'attributes.json'\n",
    "replace_last_two_lines_with_lines(absolute_folder_path, file_name, new_lines_to_replace)\n"
   ],
   "metadata": {
    "collapsed": false,
    "ExecuteTime": {
     "end_time": "2024-01-24T15:56:57.493447800Z",
     "start_time": "2024-01-24T15:56:57.239412500Z"
    }
   },
   "id": "b7fbf9920b86e79d"
  },
  {
   "cell_type": "markdown",
   "source": [
    "# Telegram bot"
   ],
   "metadata": {
    "collapsed": false
   },
   "id": "831a75b54d83697d"
  },
  {
   "cell_type": "code",
   "execution_count": 1,
   "outputs": [
    {
     "name": "stderr",
     "output_type": "stream",
     "text": [
      "C:\\Users\\Anya Xie\\AppData\\Local\\Temp\\ipykernel_16540\\1091421835.py:11: RuntimeWarning: coroutine 'Bot.send_message' was never awaited\n",
      "  bot.send_message(chat_id=CHAT_ID, text=message)\n",
      "RuntimeWarning: Enable tracemalloc to get the object allocation traceback\n"
     ]
    }
   ],
   "source": [
    "from telegram import Bot\n",
    "\n",
    "# Your Telegram bot token\n",
    "TOKEN = '6585556167:AAGDTMRiK9BZEsjjTBT1_m57c-92USqVdRI'\n",
    "\n",
    "# ID of the chat where you want to send the message\n",
    "CHAT_ID = '5778346437'\n",
    "\n",
    "def send_telegram_message(message):\n",
    "    bot = Bot(token=TOKEN)\n",
    "    bot.send_message(chat_id=CHAT_ID, text=message)\n",
    "\n",
    "if __name__ == \"__main__\":\n",
    "    message = \"Hello, this is a test message from your Python script!\"\n",
    "    send_telegram_message(message)\n"
   ],
   "metadata": {
    "collapsed": false,
    "ExecuteTime": {
     "end_time": "2024-01-31T19:53:58.575995300Z",
     "start_time": "2024-01-31T19:53:53.472562500Z"
    }
   },
   "id": "876347e4c43c129e"
  },
  {
   "cell_type": "code",
   "execution_count": 2,
   "outputs": [
    {
     "name": "stdout",
     "output_type": "stream",
     "text": [
      "{'ok': True, 'result': []}\n"
     ]
    }
   ],
   "source": [
    "import requests\n",
    "TOKEN = \"6585556167:AAGDTMRiK9BZEsjjTBT1_m57c-92USqVdRI\"\n",
    "url = f\"https://api.telegram.org/bot{TOKEN}/getUpdates\"\n",
    "print(requests.get(url).json())"
   ],
   "metadata": {
    "collapsed": false,
    "ExecuteTime": {
     "end_time": "2024-01-31T19:55:31.179758200Z",
     "start_time": "2024-01-31T19:55:25.915549300Z"
    }
   },
   "id": "917560641ecdfd67"
  },
  {
   "cell_type": "code",
   "execution_count": 4,
   "outputs": [
    {
     "ename": "RuntimeError",
     "evalue": "asyncio.run() cannot be called from a running event loop",
     "output_type": "error",
     "traceback": [
      "\u001B[1;31m---------------------------------------------------------------------------\u001B[0m",
      "\u001B[1;31mRuntimeError\u001B[0m                              Traceback (most recent call last)",
      "Cell \u001B[1;32mIn[4], line 19\u001B[0m\n\u001B[0;32m     16\u001B[0m     \u001B[38;5;28;01mawait\u001B[39;00m send_telegram_message(message)\n\u001B[0;32m     18\u001B[0m \u001B[38;5;28;01mif\u001B[39;00m \u001B[38;5;18m__name__\u001B[39m \u001B[38;5;241m==\u001B[39m \u001B[38;5;124m\"\u001B[39m\u001B[38;5;124m__main__\u001B[39m\u001B[38;5;124m\"\u001B[39m:\n\u001B[1;32m---> 19\u001B[0m     \u001B[43masyncio\u001B[49m\u001B[38;5;241;43m.\u001B[39;49m\u001B[43mrun\u001B[49m\u001B[43m(\u001B[49m\u001B[43mmain\u001B[49m\u001B[43m(\u001B[49m\u001B[43m)\u001B[49m\u001B[43m)\u001B[49m\n",
      "File \u001B[1;32m~\\anaconda3\\envs\\zen-garden-linopy\\Lib\\asyncio\\runners.py:186\u001B[0m, in \u001B[0;36mrun\u001B[1;34m(main, debug)\u001B[0m\n\u001B[0;32m    161\u001B[0m \u001B[38;5;250m\u001B[39m\u001B[38;5;124;03m\"\"\"Execute the coroutine and return the result.\u001B[39;00m\n\u001B[0;32m    162\u001B[0m \n\u001B[0;32m    163\u001B[0m \u001B[38;5;124;03mThis function runs the passed coroutine, taking care of\u001B[39;00m\n\u001B[1;32m   (...)\u001B[0m\n\u001B[0;32m    182\u001B[0m \u001B[38;5;124;03m    asyncio.run(main())\u001B[39;00m\n\u001B[0;32m    183\u001B[0m \u001B[38;5;124;03m\"\"\"\u001B[39;00m\n\u001B[0;32m    184\u001B[0m \u001B[38;5;28;01mif\u001B[39;00m events\u001B[38;5;241m.\u001B[39m_get_running_loop() \u001B[38;5;129;01mis\u001B[39;00m \u001B[38;5;129;01mnot\u001B[39;00m \u001B[38;5;28;01mNone\u001B[39;00m:\n\u001B[0;32m    185\u001B[0m     \u001B[38;5;66;03m# fail fast with short traceback\u001B[39;00m\n\u001B[1;32m--> 186\u001B[0m     \u001B[38;5;28;01mraise\u001B[39;00m \u001B[38;5;167;01mRuntimeError\u001B[39;00m(\n\u001B[0;32m    187\u001B[0m         \u001B[38;5;124m\"\u001B[39m\u001B[38;5;124masyncio.run() cannot be called from a running event loop\u001B[39m\u001B[38;5;124m\"\u001B[39m)\n\u001B[0;32m    189\u001B[0m \u001B[38;5;28;01mwith\u001B[39;00m Runner(debug\u001B[38;5;241m=\u001B[39mdebug) \u001B[38;5;28;01mas\u001B[39;00m runner:\n\u001B[0;32m    190\u001B[0m     \u001B[38;5;28;01mreturn\u001B[39;00m runner\u001B[38;5;241m.\u001B[39mrun(main)\n",
      "\u001B[1;31mRuntimeError\u001B[0m: asyncio.run() cannot be called from a running event loop"
     ]
    }
   ],
   "source": [
    "import asyncio\n",
    "from telegram import Bot\n",
    "\n",
    "# Your Telegram bot token\n",
    "TOKEN = '6585556167:AAGDTMRiK9BZEsjjTBT1_m57c-92USqVdRI'\n",
    "\n",
    "# ID of the chat where you want to send the message\n",
    "CHAT_ID = '5778346437'\n",
    "\n",
    "async def send_telegram_message(message):\n",
    "    bot = Bot(token=TOKEN)\n",
    "    await bot.send_message(chat_id=CHAT_ID, text=message)\n",
    "\n",
    "async def main():\n",
    "    message = \"Hello, this is a test message from your Python script!\"\n",
    "    await send_telegram_message(message)\n",
    "\n",
    "if __name__ == \"__main__\":\n",
    "    asyncio.run(main())\n"
   ],
   "metadata": {
    "collapsed": false,
    "ExecuteTime": {
     "end_time": "2024-01-31T20:02:17.074157700Z",
     "start_time": "2024-01-31T20:02:16.991558100Z"
    }
   },
   "id": "7c16b277f4472c50"
  }
 ],
 "metadata": {
  "kernelspec": {
   "display_name": "Python 3",
   "language": "python",
   "name": "python3"
  },
  "language_info": {
   "codemirror_mode": {
    "name": "ipython",
    "version": 2
   },
   "file_extension": ".py",
   "mimetype": "text/x-python",
   "name": "python",
   "nbconvert_exporter": "python",
   "pygments_lexer": "ipython2",
   "version": "2.7.6"
  }
 },
 "nbformat": 4,
 "nbformat_minor": 5
}
