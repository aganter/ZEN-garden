{
 "cells": [
  {
   "cell_type": "code",
   "execution_count": 4,
   "id": "afa01060",
   "metadata": {
    "pycharm": {
     "is_executing": true
    },
    "ExecuteTime": {
     "end_time": "2023-11-07T15:46:16.356183Z",
     "start_time": "2023-11-07T15:46:16.252242Z"
    }
   },
   "outputs": [
    {
     "name": "stdout",
     "output_type": "stream",
     "text": [
      "The autoreload extension is already loaded. To reload it, use:\n",
      "  %reload_ext autoreload\n"
     ]
    }
   ],
   "source": [
    "%load_ext autoreload\n",
    "%autoreload 2"
   ]
  },
  {
   "cell_type": "code",
   "execution_count": 5,
   "id": "3920350b",
   "metadata": {
    "ExecuteTime": {
     "end_time": "2023-11-07T15:46:16.356901Z",
     "start_time": "2023-11-07T15:46:16.276270Z"
    }
   },
   "outputs": [],
   "source": [
    "%matplotlib inline\n",
    "\n",
    "from pprint import pprint\n",
    "from zen_garden.postprocess.results import Results"
   ]
  },
  {
   "cell_type": "markdown",
   "id": "8b60bf0f",
   "metadata": {},
   "source": [
    "### Working with results of a ZenGarden run\n",
    "\n",
    "This notebook shows some examples on how to handle the results of a `zen-garden` run. It uses the outputs of the tests as examples. Therefore, you need to run the tests via \n",
    "```\n",
    "coverage run --source=\"zen_garden\" -m pytest -v tests/testcases/run_test.py\n",
    "```\n",
    "to get the data."
   ]
  },
  {
   "cell_type": "markdown",
   "id": "5c57a7d1",
   "metadata": {},
   "source": [
    "### Reading in the results\n",
    "\n",
    "The results can be read in using the `Results` class. This will automatically read in all relevant files, independent of the number of scenarios or if the optimization was run with perfect or myopic foresight. However, you should know what type of input you are reading in, as the output of some routines will depend on the type."
   ]
  },
  {
   "cell_type": "code",
   "execution_count": 6,
   "id": "759d7b05",
   "metadata": {
    "ExecuteTime": {
     "end_time": "2023-11-07T15:46:16.599069Z",
     "start_time": "2023-11-07T15:46:16.294521Z"
    }
   },
   "outputs": [
    {
     "name": "stdout",
     "output_type": "stream",
     "text": [
      "/Users/Ludwig/Library/CloudStorage/OneDrive-ETHZürich/Master_Thesis/ZEN-garden/zen_garden/model/objects/time_steps.py:175: FutureWarning: unique with argument that is not not a Series, Index, ExtensionArray, or np.ndarray is deprecated and will raise in a future version.\n",
      "  time_steps_combi = np.vstack(pd.unique(list(zip(sequence_operation, sequence_yearly)))).T\n"
     ]
    },
    {
     "ename": "FileNotFoundError",
     "evalue": "The file does not exists as json or gzip: /Users/Ludwig/Library/CloudStorage/OneDrive-ETHZürich/Master_Thesis/ZEN-garden/outputs/test_6a/scenario_/system",
     "output_type": "error",
     "traceback": [
      "\u001B[0;31m---------------------------------------------------------------------------\u001B[0m",
      "\u001B[0;31mFileNotFoundError\u001B[0m                         Traceback (most recent call last)",
      "Cell \u001B[0;32mIn[6], line 4\u001B[0m\n\u001B[1;32m      2\u001B[0m res_basic \u001B[38;5;241m=\u001B[39m Results(\u001B[38;5;124m\"\u001B[39m\u001B[38;5;124m../outputs/test_1a/\u001B[39m\u001B[38;5;124m\"\u001B[39m)\n\u001B[1;32m      3\u001B[0m \u001B[38;5;66;03m# Here we have three different scenarios\u001B[39;00m\n\u001B[0;32m----> 4\u001B[0m res_scenario \u001B[38;5;241m=\u001B[39m \u001B[43mResults\u001B[49m\u001B[43m(\u001B[49m\u001B[38;5;124;43m\"\u001B[39;49m\u001B[38;5;124;43m../outputs/test_6a/\u001B[39;49m\u001B[38;5;124;43m\"\u001B[39;49m\u001B[43m)\u001B[49m\n\u001B[1;32m      5\u001B[0m \u001B[38;5;66;03m# This was run with myopic foresight\u001B[39;00m\n\u001B[1;32m      6\u001B[0m res_mf \u001B[38;5;241m=\u001B[39m Results(\u001B[38;5;124m\"\u001B[39m\u001B[38;5;124m../outputs/test_4g/\u001B[39m\u001B[38;5;124m\"\u001B[39m)\n",
      "File \u001B[0;32m~/Library/CloudStorage/OneDrive-ETHZürich/Master_Thesis/ZEN-garden/zen_garden/postprocess/results.py:130\u001B[0m, in \u001B[0;36mResults.__init__\u001B[0;34m(self, path, scenarios, load_opt)\u001B[0m\n\u001B[1;32m    127\u001B[0m         folder_path \u001B[38;5;241m=\u001B[39m os\u001B[38;5;241m.\u001B[39mpath\u001B[38;5;241m.\u001B[39mjoin(base_scenario, MF_subfolder_names[\u001B[38;5;241m0\u001B[39m])\n\u001B[1;32m    129\u001B[0m \u001B[38;5;66;03m#load scenario-dependent system and analysis\u001B[39;00m\n\u001B[0;32m--> 130\u001B[0m \u001B[38;5;28mself\u001B[39m\u001B[38;5;241m.\u001B[39mresults[scenario][\u001B[38;5;124m\"\u001B[39m\u001B[38;5;124msystem\u001B[39m\u001B[38;5;124m\"\u001B[39m] \u001B[38;5;241m=\u001B[39m \u001B[38;5;28;43mself\u001B[39;49m\u001B[38;5;241;43m.\u001B[39;49m\u001B[43mload_system\u001B[49m\u001B[43m(\u001B[49m\u001B[43mos\u001B[49m\u001B[38;5;241;43m.\u001B[39;49m\u001B[43mpath\u001B[49m\u001B[38;5;241;43m.\u001B[39;49m\u001B[43mjoin\u001B[49m\u001B[43m(\u001B[49m\u001B[38;5;28;43mself\u001B[39;49m\u001B[38;5;241;43m.\u001B[39;49m\u001B[43mpath\u001B[49m\u001B[43m,\u001B[49m\u001B[43m \u001B[49m\u001B[43mfolder_path\u001B[49m\u001B[43m)\u001B[49m\u001B[43m)\u001B[49m\n\u001B[1;32m    131\u001B[0m \u001B[38;5;28mself\u001B[39m\u001B[38;5;241m.\u001B[39mresults[scenario][\u001B[38;5;124m\"\u001B[39m\u001B[38;5;124manalysis\u001B[39m\u001B[38;5;124m\"\u001B[39m] \u001B[38;5;241m=\u001B[39m \u001B[38;5;28mself\u001B[39m\u001B[38;5;241m.\u001B[39mload_analysis(os\u001B[38;5;241m.\u001B[39mpath\u001B[38;5;241m.\u001B[39mjoin(\u001B[38;5;28mself\u001B[39m\u001B[38;5;241m.\u001B[39mpath, folder_path))\n\u001B[1;32m    132\u001B[0m \u001B[38;5;28mself\u001B[39m\u001B[38;5;241m.\u001B[39mresults[scenario][\u001B[38;5;124m\"\u001B[39m\u001B[38;5;124myears\u001B[39m\u001B[38;5;124m\"\u001B[39m] \u001B[38;5;241m=\u001B[39m \u001B[38;5;28mlist\u001B[39m(\u001B[38;5;28mrange\u001B[39m(\u001B[38;5;241m0\u001B[39m, \u001B[38;5;28mself\u001B[39m\u001B[38;5;241m.\u001B[39mresults[scenario][\u001B[38;5;124m\"\u001B[39m\u001B[38;5;124msystem\u001B[39m\u001B[38;5;124m\"\u001B[39m][\u001B[38;5;124m\"\u001B[39m\u001B[38;5;124moptimized_years\u001B[39m\u001B[38;5;124m\"\u001B[39m]))\n",
      "File \u001B[0;32m~/Library/CloudStorage/OneDrive-ETHZürich/Master_Thesis/ZEN-garden/zen_garden/postprocess/results.py:384\u001B[0m, in \u001B[0;36mResults.load_system\u001B[0;34m(cls, path)\u001B[0m\n\u001B[1;32m    376\u001B[0m \u001B[38;5;250m\u001B[39m\u001B[38;5;124;03m\"\"\"\u001B[39;00m\n\u001B[1;32m    377\u001B[0m \u001B[38;5;124;03mLoads the system dict from a given path\u001B[39;00m\n\u001B[1;32m    378\u001B[0m \n\u001B[1;32m    379\u001B[0m \u001B[38;5;124;03m:param path: Directory to load the dictionary from\u001B[39;00m\n\u001B[1;32m    380\u001B[0m \u001B[38;5;124;03m:return: The system dictionary\u001B[39;00m\n\u001B[1;32m    381\u001B[0m \u001B[38;5;124;03m\"\"\"\u001B[39;00m\n\u001B[1;32m    383\u001B[0m \u001B[38;5;66;03m# get the dict\u001B[39;00m\n\u001B[0;32m--> 384\u001B[0m raw_dict \u001B[38;5;241m=\u001B[39m \u001B[38;5;28;43mcls\u001B[39;49m\u001B[38;5;241;43m.\u001B[39;49m\u001B[43m_read_file\u001B[49m\u001B[43m(\u001B[49m\u001B[43mos\u001B[49m\u001B[38;5;241;43m.\u001B[39;49m\u001B[43mpath\u001B[49m\u001B[38;5;241;43m.\u001B[39;49m\u001B[43mjoin\u001B[49m\u001B[43m(\u001B[49m\u001B[43mpath\u001B[49m\u001B[43m,\u001B[49m\u001B[43m \u001B[49m\u001B[38;5;124;43m\"\u001B[39;49m\u001B[38;5;124;43msystem\u001B[39;49m\u001B[38;5;124;43m\"\u001B[39;49m\u001B[43m)\u001B[49m\u001B[43m)\u001B[49m\n\u001B[1;32m    386\u001B[0m \u001B[38;5;28;01mreturn\u001B[39;00m raw_dict\n",
      "File \u001B[0;32m~/Library/CloudStorage/OneDrive-ETHZürich/Master_Thesis/ZEN-garden/zen_garden/postprocess/results.py:246\u001B[0m, in \u001B[0;36mResults._read_file\u001B[0;34m(cls, name, lazy)\u001B[0m\n\u001B[1;32m    243\u001B[0m     \u001B[38;5;28;01mreturn\u001B[39;00m json\u001B[38;5;241m.\u001B[39mloads(content)\n\u001B[1;32m    245\u001B[0m \u001B[38;5;66;03m# raise Error if nothing is found\u001B[39;00m\n\u001B[0;32m--> 246\u001B[0m \u001B[38;5;28;01mraise\u001B[39;00m \u001B[38;5;167;01mFileNotFoundError\u001B[39;00m(\u001B[38;5;124mf\u001B[39m\u001B[38;5;124m\"\u001B[39m\u001B[38;5;124mThe file does not exists as json or gzip: \u001B[39m\u001B[38;5;132;01m{\u001B[39;00mname\u001B[38;5;132;01m}\u001B[39;00m\u001B[38;5;124m\"\u001B[39m)\n",
      "\u001B[0;31mFileNotFoundError\u001B[0m: The file does not exists as json or gzip: /Users/Ludwig/Library/CloudStorage/OneDrive-ETHZürich/Master_Thesis/ZEN-garden/outputs/test_6a/scenario_/system"
     ]
    }
   ],
   "source": [
    "# This has no scenarios and perfect foresight\n",
    "res_basic = Results(\"../outputs/test_1a/\")\n",
    "# Here we have three different scenarios\n",
    "res_scenario = Results(\"../outputs/test_6a/\")\n",
    "# This was run with myopic foresight\n",
    "res_mf = Results(\"../outputs/test_4g/\")\n",
    "# This was run with aggregated time steps and multi year\n",
    "res_ts = Results(\"../outputs/test_4f/\")"
   ]
  },
  {
   "cell_type": "markdown",
   "id": "a4b62c61",
   "metadata": {},
   "source": [
    "### Accessing the config\n",
    "\n",
    "The standard dictionaries, i.e. system, analysis, scenarios, solver and dict_sequence_time_steps can be accessed via the results dict."
   ]
  },
  {
   "cell_type": "code",
   "execution_count": null,
   "id": "31109ec9",
   "metadata": {
    "ExecuteTime": {
     "start_time": "2023-11-07T15:46:16.590382Z"
    }
   },
   "outputs": [],
   "source": [
    "# Show the analysis settings\n",
    "pprint(res_basic.results[\"analysis\"])"
   ]
  },
  {
   "cell_type": "markdown",
   "source": [
    "### Comparing the configs, parameters and variables of two result files\n",
    "\n",
    "You can compare two result objects by using the `compare_configs`, `compare_model_parameters` and `compare_model_variables` classmethods. This can help you to get a fast overview of where two datasets are different and where the reasons for errors lie."
   ],
   "metadata": {
    "collapsed": false
   },
   "id": "87312194e0d123dd"
  },
  {
   "cell_type": "code",
   "execution_count": null,
   "outputs": [],
   "source": [
    "# difference between configs\n",
    "diff_config = Results.compare_configs([res_basic,res_ts])\n",
    "diff_config"
   ],
   "metadata": {
    "collapsed": false,
    "ExecuteTime": {
     "start_time": "2023-11-07T15:46:16.592014Z"
    }
   },
   "id": "fc1ac0352edb9e9c"
  },
  {
   "cell_type": "code",
   "execution_count": null,
   "outputs": [],
   "source": [
    "# difference between model params\n",
    "# for larger models, this can take several minutes\n",
    "diff_params = Results.compare_model_parameters([res_ts,res_mf])\n",
    "diff_params"
   ],
   "metadata": {
    "collapsed": false,
    "ExecuteTime": {
     "start_time": "2023-11-07T15:46:16.593803Z"
    }
   },
   "id": "e94849f8beddf524"
  },
  {
   "cell_type": "code",
   "execution_count": null,
   "outputs": [],
   "source": [
    "# you can also compare the model variable values. However, even a small change in the input data might have a significant impact on the results, which then leads to large differences in the variable values\n",
    "diff_var = Results.compare_model_variables([res_scenario,res_scenario],scenarios=(\"scenario_2\",\"scenario_4\"))\n",
    "diff_var"
   ],
   "metadata": {
    "collapsed": false,
    "ExecuteTime": {
     "start_time": "2023-11-07T15:46:16.595257Z"
    }
   },
   "id": "24f3afc866b06d2"
  },
  {
   "cell_type": "markdown",
   "id": "899c758d",
   "metadata": {},
   "source": [
    "### Extracting individual data frames\n",
    "There are three main methods to extract component (parameter and variable) values: `get_total`, `get_full_ts`, and `get_df`. It does not matter if the component is a parameter or a variable.\n",
    "\n",
    "You can get the total value of a component for each year by using `get_total`. The full time series of a component is returned by `get_full_ts`. This reverts the time series aggregation and disaggregates the data. If the selected component is indexed by the years (e.g., `capex` or `capacity`), then the returned data is the same as from `get_total`. If you specify a `year`, only the values for this year are returned. You can select a specific `element_name`, which corresponds to the first level of the index, i.e., generally a technology or a carrier.\n",
    "\n",
    "You can either feed `get_total` and `get_full_ts` a dataframe as returned by `get_df` or specify the component name as a string\n",
    "\n",
    "You can access individual data frames from any component with the `get_df` method. However, the behavior differs slightly for the usecases.\n",
    "If the optimization was run with perfect foresight and no scenarios, then the data frame is returned as `pandas.Series`. For myopic foresight, the final dataframe is stiched together from the relevant outputs if the component is set yearly. If multiple scenarios were run, a dictionary containing the data frame for all different scenarios is returned. However, you can specify the scenario in advance, then only a single data frame is returned.\n",
    "\n",
    "Additionally, the method provides a shortcut to save the extracted dataframe directly to a CSV, or in case of different scenarios to a bundle of CSV files."
   ]
  },
  {
   "cell_type": "code",
   "execution_count": null,
   "id": "a5c033eb",
   "metadata": {
    "ExecuteTime": {
     "start_time": "2023-11-07T15:46:16.596781Z"
    }
   },
   "outputs": [],
   "source": [
    "# This will return a single data frame\n",
    "df = res_ts.get_df('flow_import')\n",
    "df"
   ]
  },
  {
   "cell_type": "code",
   "execution_count": null,
   "id": "8a2646b6",
   "metadata": {
    "ExecuteTime": {
     "start_time": "2023-11-07T15:46:16.598273Z"
    }
   },
   "outputs": [],
   "source": [
    "# We can calculate the total value of the dataframe\n",
    "res_ts.get_total(df)"
   ]
  },
  {
   "cell_type": "code",
   "execution_count": null,
   "outputs": [],
   "source": [
    "# We can also only specify the name\n",
    "res_ts.get_total(\"flow_import\")"
   ],
   "metadata": {
    "collapsed": false,
    "ExecuteTime": {
     "start_time": "2023-11-07T15:46:16.599834Z"
    }
   },
   "id": "131d499bf7d8fc05"
  },
  {
   "cell_type": "code",
   "execution_count": null,
   "outputs": [],
   "source": [
    "# and also get the full timeseries if we want\n",
    "df_full_ts = res_ts.get_full_ts(\"flow_import\")\n",
    "df_full_ts"
   ],
   "metadata": {
    "collapsed": false,
    "ExecuteTime": {
     "start_time": "2023-11-07T15:46:16.601800Z"
    }
   },
   "id": "a45d1a8bb34b5413"
  },
  {
   "cell_type": "code",
   "execution_count": null,
   "outputs": [],
   "source": [
    "# you can also save the dataframe directly to a csv:\n",
    "df = res_basic.get_df('carbon_emissions_overshoot', to_csv=\"test\")\n",
    "# this prints out the content of the generated csv\n",
    "!cat test.csv"
   ],
   "metadata": {
    "collapsed": false,
    "ExecuteTime": {
     "start_time": "2023-11-07T15:46:16.603289Z"
    }
   },
   "id": "ff53c058a27f36ff"
  },
  {
   "cell_type": "code",
   "execution_count": null,
   "outputs": [],
   "source": [
    "# if we have multiple scenarios, all dataframe will be returned in a dict\n",
    "df_dict = res_scenario.get_df('flow_export')\n",
    "pprint(df_dict)"
   ],
   "metadata": {
    "collapsed": false,
    "ExecuteTime": {
     "start_time": "2023-11-07T15:46:16.604736Z"
    }
   },
   "id": "bb057f2851ad93b"
  },
  {
   "cell_type": "code",
   "execution_count": null,
   "outputs": [],
   "source": [
    "# saving this to a csv will create a file for each scenario\n",
    "df_dict = res_scenario.get_df('export_flow', to_csv=\"test2\")\n",
    "# list files and print content of one\n",
    "!echo \"Generated files: \"\n",
    "!ls test2*\n",
    "!echo\n",
    "!echo \"Output of test2_scenario_2.csv\"\n",
    "!cat test2_scenario_2.csv"
   ],
   "metadata": {
    "collapsed": false,
    "ExecuteTime": {
     "start_time": "2023-11-07T15:46:16.606158Z"
    }
   },
   "id": "d79e74771406ccb"
  },
  {
   "cell_type": "code",
   "execution_count": null,
   "outputs": [],
   "source": [
    "# we can also specify a specific scenario\n",
    "df = res_scenario.get_df('carrier_flow', scenario=\"scenario_2\")\n",
    "df"
   ],
   "metadata": {
    "collapsed": false,
    "ExecuteTime": {
     "end_time": "2023-11-07T15:46:16.631838Z",
     "start_time": "2023-11-07T15:46:16.607192Z"
    }
   },
   "id": "427df23cce823e6f"
  },
  {
   "cell_type": "code",
   "execution_count": null,
   "outputs": [],
   "source": [
    "# This will collect the values from the results folders of the different myopic foresight runs\n",
    "df = res_mf.get_df(\"carbon_emissions_cumulative\")\n",
    "df"
   ],
   "metadata": {
    "collapsed": false,
    "ExecuteTime": {
     "start_time": "2023-11-07T15:46:16.608Z"
    }
   },
   "id": "4aa3c1e57dfb3962"
  },
  {
   "cell_type": "markdown",
   "source": [
    "If you enable the calculation of dual variables (e.g, the marginal cost of production of a carrier as the shadow price of the energy balance) in the config with `solver[\"add_duals\"] = True`, you can use `get_dual` to extract the dual variables. Otherwise, it is skipped. `get_dual` uses `get_full_ts`, thus always returns the full disaggregated time series. You must pass the name of the constraint."
   ],
   "metadata": {
    "collapsed": false
   },
   "id": "142a99d3eb83a6f2"
  },
  {
   "cell_type": "code",
   "execution_count": null,
   "outputs": [],
   "source": [
    "res_mf.get_dual(\"constraint_nodal_energy_balance\")"
   ],
   "metadata": {
    "collapsed": false,
    "ExecuteTime": {
     "start_time": "2023-11-07T15:46:16.608797Z"
    }
   },
   "id": "331934a7bc1af66d"
  },
  {
   "cell_type": "markdown",
   "id": "d93750ec",
   "metadata": {},
   "source": [
    "### How to plot your results\n",
    "\n",
    "The ```Results``` class offers three different plotting functions explained at https://github.com/RRE-ETH/ZEN-garden/discussions/251"
   ]
  },
  {
   "cell_type": "code",
   "execution_count": null,
   "id": "392024c9",
   "metadata": {
    "ExecuteTime": {
     "start_time": "2023-11-07T15:46:16.609695Z"
    }
   },
   "outputs": [],
   "source": [
    "#Create the standard plots of your Results object (e.g. res_ts)\n",
    "res_ts.standard_plots()"
   ]
  },
  {
   "cell_type": "code",
   "execution_count": null,
   "id": "02126edf",
   "metadata": {
    "ExecuteTime": {
     "start_time": "2023-11-07T15:46:16.610536Z"
    }
   },
   "outputs": [],
   "source": [
    "#Visualise the energy balance at the node Germany for the carrier heat in year 0\n",
    "res_ts.plot_energy_balance(\"DE\",\"heat\",0)\n",
    "#create a zoom-in\n",
    "res_ts.plot_energy_balance(\"DE\", \"heat\", 0, start_hour=int(8760/2), duration=5*24)\n",
    "#save your figure as a pdf(works identically for all three plot functions)(figure is shown anyway)\n",
    "res_ts.plot_energy_balance(\"DE\", \"heat\", 0, start_hour=int(8760/2), duration=5*24, save_fig=True)\n",
    "#save your figure in another format\n",
    "res_ts.plot_energy_balance(\"DE\", \"heat\", 0, start_hour=int(8760/2), duration=5*24, save_fig=True, file_type=\"png\")"
   ]
  },
  {
   "cell_type": "code",
   "execution_count": null,
   "id": "0cc67249",
   "metadata": {
    "ExecuteTime": {
     "start_time": "2023-11-07T15:46:16.611541Z"
    }
   },
   "outputs": [],
   "source": [
    "#Create more customized plots:\n",
    "res_ts.plot(\"input_flow\")\n",
    "#time adjustments\n",
    "#plot only second year\n",
    "res_ts.plot(\"input_flow\", year=1)\n",
    "#create zoom-in\n",
    "res_ts.plot(\"input_flow\", year=1, start_hour=0, duration=500)\n",
    "#use yearly time steps\n",
    "res_ts.plot(\"input_flow\", yearly=True)"
   ]
  },
  {
   "cell_type": "code",
   "execution_count": null,
   "id": "2c5b0c3f",
   "metadata": {
    "ExecuteTime": {
     "start_time": "2023-11-07T15:46:16.612487Z"
    }
   },
   "outputs": [],
   "source": [
    "res_ts.plot(\"capacity\")\n",
    "#data adjustments\n",
    "#plot specific technology type\n",
    "res_ts.plot(\"capacity\", tech_type=\"storage\")\n",
    "#plot charging/discharging capacities\n",
    "res_ts.plot(\"capacity\", tech_type=\"storage_power\")\n",
    "#plot all nodes separately\n",
    "res_ts.plot(\"capacity\", tech_type=\"conversion\", node_edit=\"all\")\n",
    "#plot data of a single node\n",
    "res_ts.plot(\"capacity\", node_edit=\"CH\")"
   ]
  },
  {
   "cell_type": "code",
   "execution_count": null,
   "id": "016017bb",
   "metadata": {
    "ExecuteTime": {
     "start_time": "2023-11-07T15:46:16.613551Z"
    }
   },
   "outputs": [],
   "source": [
    "res_ts.plot(\"output_flow\")\n",
    "#sum technologies of identical output carrier (effect can't really be seen as there is only one tech in the dataset)\n",
    "res_ts.plot(\"output_flow\", sum_techs=True)\n",
    "#extract technologies of specific reference carrier (effect can't really be seen as there is only one tech in the dataset)\n",
    "res_ts.plot(\"output_flow\", reference_carrier=\"heat\")"
   ]
  },
  {
   "cell_type": "code",
   "execution_count": null,
   "id": "7d3bfb77",
   "metadata": {
    "ExecuteTime": {
     "start_time": "2023-11-07T15:46:16.614688Z"
    }
   },
   "outputs": [],
   "source": [
    "#create plot of multi-scenario dataset (standard scenario is plotted)\n",
    "res_scenario.plot(\"input_flow\")\n",
    "#specify another scenario\n",
    "res_scenario.plot(\"input_flow\", scenario=\"scenario_4\")"
   ]
  }
 ],
 "metadata": {
  "kernelspec": {
   "name": "python3",
   "language": "python",
   "display_name": "Python 3 (ipykernel)"
  },
  "language_info": {
   "codemirror_mode": {
    "name": "ipython",
    "version": 3
   },
   "file_extension": ".py",
   "mimetype": "text/x-python",
   "name": "python",
   "nbconvert_exporter": "python",
   "pygments_lexer": "ipython3",
   "version": "3.11.0"
  }
 },
 "nbformat": 4,
 "nbformat_minor": 5
}
