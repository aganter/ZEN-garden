{
 "cells": [
  {
   "cell_type": "code",
   "execution_count": 1,
   "id": "afa01060",
   "metadata": {},
   "outputs": [],
   "source": [
    "%load_ext autoreload\n",
    "%autoreload 2"
   ]
  },
  {
   "cell_type": "code",
   "execution_count": 2,
   "id": "3920350b",
   "metadata": {},
   "outputs": [],
   "source": [
    "%matplotlib inline\n",
    "\n",
    "from pprint import pprint\n",
    "from zen_garden.postprocess.results import Results"
   ]
  },
  {
   "cell_type": "markdown",
   "id": "8b60bf0f",
   "metadata": {},
   "source": [
    "### Working with results of a ZenGarden run\n",
    "\n",
    "This notebook shows some examples on how to handle the results of a `zen-garden` run. It uses the outputs of the tests as examples. Therefore, you need to run the tests via \n",
    "```\n",
    "coverage run --source=\"zen_garden\" -m pytest -v tests/testcases/run_test.py\n",
    "```\n",
    "to get the data."
   ]
  },
  {
   "cell_type": "markdown",
   "id": "5c57a7d1",
   "metadata": {},
   "source": [
    "### Reading in the results\n",
    "\n",
    "The results can be read in using the `Results` class. This will automatically read in all relevant files, independent of the number of scenarios or if the optimization was run with perfect or myopic foresight. However, you should know what type of input you are reading in, as the output of some routines will depend on the type."
   ]
  },
  {
   "cell_type": "code",
   "execution_count": 40,
   "id": "759d7b05",
   "metadata": {},
   "outputs": [],
   "source": [
    "# This has no scenarios and perfect foresight\n",
    "res_basic = Results(\"../outputs/test_1a/\")\n",
    "# Here we have three different scenarios\n",
    "res_scenario = Results(\"../outputs/test_6a/\")\n",
    "# This was run with myopic foresight\n",
    "res_mf = Results(\"../outputs/test_4g/\")"
   ]
  },
  {
   "cell_type": "markdown",
   "id": "a4b62c61",
   "metadata": {},
   "source": [
    "### Accessing the config\n",
    "\n",
    "The standard dictionaries, i.e. system, analysis, scenarios, solver and dictSequenceTimeSteps can be accessed via the results dict."
   ]
  },
  {
   "cell_type": "code",
   "execution_count": 41,
   "id": "31109ec9",
   "metadata": {},
   "outputs": [
    {
     "name": "stdout",
     "output_type": "stream",
     "text": [
      "{'dataset': 'C:\\\\Users\\\\janis\\\\Dropbox\\\\SIS\\\\Subscriptions\\\\Sansavini\\\\ZEN-garden\\\\tests\\\\testcases\\\\test_1a',\n",
      " 'discountRate': 0.06,\n",
      " 'fileFormat': 'csv',\n",
      " 'headerDataInputs': {'setCarriers': ['demandCarrier',\n",
      "                                      'availabilityCarrier',\n",
      "                                      'exportPriceCarrier',\n",
      "                                      'importPriceCarrier'],\n",
      "                      'setConversionTechnologies': ['availability'],\n",
      "                      'setEdges': ['edge'],\n",
      "                      'setExistingTechnologies': ['existingTechnology'],\n",
      "                      'setNodes': ['node', 'x', 'y'],\n",
      "                      'setScenarios': ['scenario'],\n",
      "                      'setTimeSteps': ['time'],\n",
      "                      'setTimeStepsYearly': ['year'],\n",
      "                      'setTransportTechnologies': ['availability',\n",
      "                                                   'costPerDistance',\n",
      "                                                   'distanceEuclidean',\n",
      "                                                   'efficiencyPerDistance']},\n",
      " 'headerDataOutputs': {'builtCapacity': ['conversionTechnology',\n",
      "                                         'node',\n",
      "                                         'time',\n",
      "                                         'capacity[GWh]'],\n",
      "                       'capacity': ['conversionTechnology',\n",
      "                                    'node',\n",
      "                                    'time',\n",
      "                                    'capacity[GWh]'],\n",
      "                       'capacityApproximation': ['conversionTechnology',\n",
      "                                                 'node',\n",
      "                                                 'time',\n",
      "                                                 'capacity[GWh]'],\n",
      "                       'capex': ['conversionTechnology',\n",
      "                                 'node',\n",
      "                                 'time',\n",
      "                                 'capacity[GWh]'],\n",
      "                       'capexApproximation': ['conversionTechnology',\n",
      "                                              'node',\n",
      "                                              'time',\n",
      "                                              'capacity[GWh]'],\n",
      "                       'capexTotal': ['capacity[€]'],\n",
      "                       'carbonEmissionsCarrier': ['carrier',\n",
      "                                                  'node',\n",
      "                                                  'time',\n",
      "                                                  'capacity[GWh]'],\n",
      "                       'carbonEmissionsCarrierTotal': ['capacity[GWh]'],\n",
      "                       'carbonEmissionsTechnology': ['conversionTechnology',\n",
      "                                                     'node',\n",
      "                                                     'time',\n",
      "                                                     'capacity[GWh]'],\n",
      "                       'carbonEmissionsTechnologyTotal': ['capacity[GWh]'],\n",
      "                       'carbonEmissionsTotal': ['capacity[GWh]'],\n",
      "                       'carrierFlow': ['transportationTechnology',\n",
      "                                       'edge',\n",
      "                                       'time',\n",
      "                                       'capacity[GWh]'],\n",
      "                       'carrierFlowCharge': ['?', '??', '???', '????'],\n",
      "                       'carrierFlowDischarge': ['?', '??', '???', '????'],\n",
      "                       'carrierLoss': ['transportationTechnology',\n",
      "                                       'edge',\n",
      "                                       'time',\n",
      "                                       'capacity[GWh]'],\n",
      "                       'costCarrier': ['carrier',\n",
      "                                       'node',\n",
      "                                       'time',\n",
      "                                       'capacity[GWh]'],\n",
      "                       'costCarrierTotal': ['capacity[€]'],\n",
      "                       'dependentFlowApproximation': ['conversionTechnology',\n",
      "                                                      'carrier',\n",
      "                                                      'node',\n",
      "                                                      'time',\n",
      "                                                      'capacity[GWh]'],\n",
      "                       'exportCarrierFlow': ['carrier',\n",
      "                                             'node',\n",
      "                                             'time',\n",
      "                                             'capacity[GWh]'],\n",
      "                       'importCarrierFlow': ['carrier',\n",
      "                                             'node',\n",
      "                                             'time',\n",
      "                                             'capacity[GWh]'],\n",
      "                       'inputFlow': ['conversionTechnology',\n",
      "                                     'carrier',\n",
      "                                     'node',\n",
      "                                     'time',\n",
      "                                     'capacity[GWh]'],\n",
      "                       'installTechnology': ['conversionTechnology',\n",
      "                                             'node',\n",
      "                                             'time',\n",
      "                                             'T/F'],\n",
      "                       'levelCharge': ['?', '??', '???', '????'],\n",
      "                       'opex': ['conversionTechnology',\n",
      "                                'node',\n",
      "                                'time',\n",
      "                                'capacity[GWh]'],\n",
      "                       'opexTotal': ['capacity[€]'],\n",
      "                       'outputFlow': ['conversionTechnology',\n",
      "                                      'carrier',\n",
      "                                      'node',\n",
      "                                      'time',\n",
      "                                      'capacity[GWh]'],\n",
      "                       'referenceFlowApproximation': ['conversionTechnology',\n",
      "                                                      'carrier',\n",
      "                                                      'node',\n",
      "                                                      'time',\n",
      "                                                      'capacity[GWh]']},\n",
      " 'objective': 'TotalCost',\n",
      " 'postprocess': False,\n",
      " 'sense': 'minimize',\n",
      " 'subsets': {'setCarriers': [],\n",
      "             'setConversionTechnologies': ['setConditioningTechnologies'],\n",
      "             'setTechnologies': ['setConversionTechnologies',\n",
      "                                 'setTransportTechnologies',\n",
      "                                 'setStorageTechnologies']},\n",
      " 'timeSeriesAggregation': {'clusterMethod': 'k_means',\n",
      "                           'extremePeriodMethod': 'None',\n",
      "                           'hoursPerPeriod': 1,\n",
      "                           'noSegments': 12,\n",
      "                           'representationMethod': 'meanRepresentation',\n",
      "                           'rescaleClusterPeriods': False,\n",
      "                           'resolution': 1,\n",
      "                           'segmentation': False,\n",
      "                           'solver': 'gurobi'},\n",
      " 'transportDistance': 'Euclidean',\n",
      " 'useExistingCapacities': True}\n"
     ]
    }
   ],
   "source": [
    "# Show the analysis settings\n",
    "pprint(res_basic.results[\"analysis\"])"
   ]
  },
  {
   "cell_type": "markdown",
   "id": "899c758d",
   "metadata": {},
   "source": [
    "### Extracting individual data frames\n",
    "\n",
    "You can access individual data frames from any component with the `get_dataframe` method. However, the behavior differs slightly for the usecases.\n",
    "If the optimization was run with perfect foresight and no scenarios, then the data frame is returned as `pandas.Series`. For myopic foresight, the final dataframe is stiched together from the relevant outputs if the component is set yearly. If multiple scenarios were run, a dictionary containing the data frame for all different scenarios is returned. However, you can specify the scenario in advance, then only a single data frame is returned.\n",
    "\n",
    "Additionally, the method provides a shortcut to save the extracted dataframe directly to a CSV, or in case of different scenarios to a bundle of CSV files."
   ]
  },
  {
   "cell_type": "code",
   "execution_count": 42,
   "id": "a5c033eb",
   "metadata": {},
   "outputs": [
    {
     "data": {
      "text/plain": [
       "heat         CH  0    0.0\n",
       "             DE  0    0.0\n",
       "natural_gas  CH  0    0.0\n",
       "             DE  0    0.0\n",
       "Name: exportCarrierFlow, dtype: float64"
      ]
     },
     "execution_count": 42,
     "metadata": {},
     "output_type": "execute_result"
    }
   ],
   "source": [
    "# This will return a single data frame\n",
    "df = res_basic.get_dataframe('exportCarrierFlow')\n",
    "df"
   ]
  },
  {
   "cell_type": "code",
   "execution_count": 43,
   "id": "ad9bb4be",
   "metadata": {},
   "outputs": [
    {
     "name": "stdout",
     "output_type": "stream",
     "text": [
      ",carbonEmissionsOvershoot\r\n",
      "0,0.0\r\n"
     ]
    }
   ],
   "source": [
    "# you can also save the dataframe directly to a csv:\n",
    "df = res_basic.get_dataframe('carbonEmissionsOvershoot', to_csv=\"test\")\n",
    "# this prints out the content of the generated csv\n",
    "!cat test.csv"
   ]
  },
  {
   "cell_type": "code",
   "execution_count": 44,
   "id": "73f89cf6",
   "metadata": {},
   "outputs": [
    {
     "name": "stdout",
     "output_type": "stream",
     "text": [
      "{'scenario_': heat         CH  0    0.0\n",
      "             DE  0    0.0\n",
      "natural_gas  CH  0    0.0\n",
      "             DE  0    0.0\n",
      "Name: exportCarrierFlow, dtype: float64,\n",
      " 'scenario_2': heat         CH  0    0.0\n",
      "             DE  0    0.0\n",
      "natural_gas  CH  0    0.0\n",
      "             DE  0    0.0\n",
      "Name: exportCarrierFlow, dtype: float64,\n",
      " 'scenario_3': heat         CH  0    0.0\n",
      "             DE  0    0.0\n",
      "natural_gas  CH  0    0.0\n",
      "             DE  0    0.0\n",
      "Name: exportCarrierFlow, dtype: float64}\n"
     ]
    }
   ],
   "source": [
    "# if we have multiple scenarios, all dataframe will be returned in a dict\n",
    "df_dict = res_scenario.get_dataframe('exportCarrierFlow')\n",
    "pprint(df_dict)"
   ]
  },
  {
   "cell_type": "code",
   "execution_count": 45,
   "id": "083fd0f7",
   "metadata": {},
   "outputs": [
    {
     "name": "stdout",
     "output_type": "stream",
     "text": [
      "Generated files: \n",
      "test2_scenario_.csv  test2_scenario_2.csv  test2_scenario_3.csv\n",
      "\n",
      "Output of test2_scenario_2.csv\n",
      ",,,exportCarrierFlow\n",
      "heat,CH,0,0.0\n",
      "heat,DE,0,0.0\n",
      "natural_gas,CH,0,0.0\n",
      "natural_gas,DE,0,0.0\n"
     ]
    }
   ],
   "source": [
    "# saving this to a csv will create a file for each scenario\n",
    "df_dict = res_scenario.get_dataframe('exportCarrierFlow', to_csv=\"test2\")\n",
    "# list files and print content of one\n",
    "!echo \"Generated files: \"\n",
    "!ls test2*\n",
    "!echo \n",
    "!echo \"Output of test2_scenario_2.csv\"\n",
    "!cat test2_scenario_2.csv"
   ]
  },
  {
   "cell_type": "code",
   "execution_count": 46,
   "id": "840a10af",
   "metadata": {},
   "outputs": [
    {
     "data": {
      "text/plain": [
       "heat         CH  0    0.0\n",
       "             DE  0    0.0\n",
       "natural_gas  CH  0    0.0\n",
       "             DE  0    0.0\n",
       "Name: exportCarrierFlow, dtype: float64"
      ]
     },
     "execution_count": 46,
     "metadata": {},
     "output_type": "execute_result"
    }
   ],
   "source": [
    "# we can also specify a specific scneario\n",
    "df = res_scenario.get_dataframe('exportCarrierFlow', scenario=\"scenario_2\")\n",
    "df"
   ]
  },
  {
   "cell_type": "code",
   "execution_count": 48,
   "id": "e238b0ad",
   "metadata": {},
   "outputs": [
    {
     "data": {
      "text/plain": [
       "0    149.341143\n",
       "1    298.682286\n",
       "2    448.023428\n",
       "Name: carbonEmissionsCumulative, dtype: float64"
      ]
     },
     "execution_count": 48,
     "metadata": {},
     "output_type": "execute_result"
    }
   ],
   "source": [
    "# This will collect the values from the results folders of the different myopic foresight runs\n",
    "df = res_mf.get_dataframe(\"carbonEmissionsCumulative\")\n",
    "df"
   ]
  },
  {
   "cell_type": "markdown",
   "id": "27e2353e",
   "metadata": {},
   "source": [
    "### Helper functions\n",
    "\n",
    "The `Results` class implements some helper functions. The function `calculateTotalValue` allows you to calculate the total Value of a component, for a given year, element and scenario if desired. And the function `calculateFullTimeSeries` calculates the full (disaggregate) time series for a given component."
   ]
  },
  {
   "cell_type": "code",
   "execution_count": 49,
   "id": "ecbff0b5",
   "metadata": {},
   "outputs": [
    {
     "name": "stdout",
     "output_type": "stream",
     "text": [
      "natural_gas_boiler  natural_gas  CH  0       1.356468\n",
      "                                     1       1.356468\n",
      "                                     2       1.356468\n",
      "                                     3      24.427713\n",
      "                                     4      24.427713\n",
      "                                     5      24.427713\n",
      "                                     6      10.719171\n",
      "                                     7      10.719171\n",
      "                                     8      10.719171\n",
      "                                     9      13.774994\n",
      "                                     10     13.774994\n",
      "                                     11     13.774994\n",
      "                                     12     31.583558\n",
      "                                     13     31.583558\n",
      "                                     14     31.583558\n",
      "                                     15     27.856524\n",
      "                                     16     27.856524\n",
      "                                     17     27.856524\n",
      "                                     18     20.937711\n",
      "                                     19     20.937711\n",
      "                                     20     20.937711\n",
      "                                     21      3.883100\n",
      "                                     22      3.883100\n",
      "                                     23      3.883100\n",
      "                                     24     16.838088\n",
      "                                     25     16.838088\n",
      "                                     26     16.838088\n",
      "                                     27      7.117631\n",
      "                                     28      7.117631\n",
      "                                     29      7.117631\n",
      "                                 DE  0      14.271078\n",
      "                                     1      14.271078\n",
      "                                     2      14.271078\n",
      "                                     3     133.884443\n",
      "                                     4     133.884443\n",
      "                                     5     133.884443\n",
      "                                     6      63.179428\n",
      "                                     7      63.179428\n",
      "                                     8      63.179428\n",
      "                                     9      79.794313\n",
      "                                     10     79.794313\n",
      "                                     11     79.794313\n",
      "                                     12    182.559451\n",
      "                                     13    182.559451\n",
      "                                     14    182.559451\n",
      "                                     15    156.288835\n",
      "                                     16    156.288835\n",
      "                                     17    156.288835\n",
      "                                     18    114.550416\n",
      "                                     19    114.550416\n",
      "                                     20    114.550416\n",
      "                                     21     25.959335\n",
      "                                     22     25.959335\n",
      "                                     23     25.959335\n",
      "                                     24     96.883363\n",
      "                                     25     96.883363\n",
      "                                     26     96.883363\n",
      "                                     27     45.685675\n",
      "                                     28     45.685675\n",
      "                                     29     45.685675\n",
      "Name: inputFlow, dtype: float64\n"
     ]
    }
   ],
   "source": [
    "# We read out a normal dataframe\n",
    "df = res_mf.get_dataframe(\"inputFlow\")\n",
    "print(df)"
   ]
  },
  {
   "cell_type": "code",
   "execution_count": 50,
   "id": "8a2646b6",
   "metadata": {},
   "outputs": [
    {
     "data": {
      "text/plain": [
       "natural_gas_boiler  natural_gas  CH    3.237618e+05\n",
       "                                 DE    1.894616e+06\n",
       "dtype: float64"
      ]
     },
     "execution_count": 50,
     "metadata": {},
     "output_type": "execute_result"
    }
   ],
   "source": [
    "# We can calculate the total value of the dataframe\n",
    "res_mf.calculateTotalValue(df)"
   ]
  },
  {
   "cell_type": "code",
   "execution_count": 53,
   "id": "6662d5c0",
   "metadata": {},
   "outputs": [
    {
     "data": {
      "text/plain": [
       "natural_gas_boiler  natural_gas  CH  0         20.937711\n",
       "                                     1         20.937711\n",
       "                                     2         20.937711\n",
       "                                     3         24.427713\n",
       "                                     4         31.583558\n",
       "                                                 ...    \n",
       "                                 DE  26275    182.559451\n",
       "                                     26276    182.559451\n",
       "                                     26277    156.288835\n",
       "                                     26278    114.550416\n",
       "                                     26279    114.550416\n",
       "Length: 52560, dtype: float64"
      ]
     },
     "execution_count": 53,
     "metadata": {},
     "output_type": "execute_result"
    }
   ],
   "source": [
    "# and also get the full timeseries (disaggregate) if we want\n",
    "df_disaggregate = res_mf.calculateFullTimeSeries(df)\n",
    "df_disaggregate"
   ]
  },
  {
   "cell_type": "markdown",
   "id": "d93750ec",
   "metadata": {},
   "source": [
    "### Some Plots\n",
    "\n",
    "Here could be some example plots"
   ]
  },
  {
   "cell_type": "code",
   "execution_count": null,
   "id": "392024c9",
   "metadata": {},
   "outputs": [],
   "source": []
  }
 ],
 "metadata": {
  "kernelspec": {
   "display_name": "zen-garden",
   "language": "python",
   "name": "zen-garden"
  },
  "language_info": {
   "codemirror_mode": {
    "name": "ipython",
    "version": 3
   },
   "file_extension": ".py",
   "mimetype": "text/x-python",
   "name": "python",
   "nbconvert_exporter": "python",
   "pygments_lexer": "ipython3",
   "version": "3.9.13"
  }
 },
 "nbformat": 4,
 "nbformat_minor": 5
}
