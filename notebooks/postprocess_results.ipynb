{
 "cells": [
  {
   "cell_type": "code",
   "execution_count": 3,
   "id": "afa01060",
   "metadata": {},
   "outputs": [
    {
     "name": "stdout",
     "output_type": "stream",
     "text": [
      "The autoreload extension is already loaded. To reload it, use:\n",
      "  %reload_ext autoreload\n"
     ]
    }
   ],
   "source": [
    "%load_ext autoreload\n",
    "%autoreload 2"
   ]
  },
  {
   "cell_type": "code",
   "execution_count": 4,
   "id": "3920350b",
   "metadata": {},
   "outputs": [
    {
     "ename": "ModuleNotFoundError",
     "evalue": "No module named 'matplotlib'",
     "output_type": "error",
     "traceback": [
      "\u001B[0;31m---------------------------------------------------------------------------\u001B[0m",
      "\u001B[0;31mModuleNotFoundError\u001B[0m                       Traceback (most recent call last)",
      "Cell \u001B[0;32mIn[4], line 1\u001B[0m\n\u001B[0;32m----> 1\u001B[0m \u001B[43mget_ipython\u001B[49m\u001B[43m(\u001B[49m\u001B[43m)\u001B[49m\u001B[38;5;241;43m.\u001B[39;49m\u001B[43mrun_line_magic\u001B[49m\u001B[43m(\u001B[49m\u001B[38;5;124;43m'\u001B[39;49m\u001B[38;5;124;43mmatplotlib\u001B[39;49m\u001B[38;5;124;43m'\u001B[39;49m\u001B[43m,\u001B[49m\u001B[43m \u001B[49m\u001B[38;5;124;43m'\u001B[39;49m\u001B[38;5;124;43minline\u001B[39;49m\u001B[38;5;124;43m'\u001B[39;49m\u001B[43m)\u001B[49m\n\u001B[1;32m      3\u001B[0m \u001B[38;5;28;01mfrom\u001B[39;00m \u001B[38;5;21;01mpprint\u001B[39;00m \u001B[38;5;28;01mimport\u001B[39;00m pprint\n\u001B[1;32m      4\u001B[0m \u001B[38;5;28;01mfrom\u001B[39;00m \u001B[38;5;21;01mzen_garden\u001B[39;00m\u001B[38;5;21;01m.\u001B[39;00m\u001B[38;5;21;01mpostprocess\u001B[39;00m\u001B[38;5;21;01m.\u001B[39;00m\u001B[38;5;21;01mresults\u001B[39;00m \u001B[38;5;28;01mimport\u001B[39;00m Results\n",
      "File \u001B[0;32m~/opt/anaconda3/envs/lib/python3.10/site-packages/IPython/core/interactiveshell.py:2369\u001B[0m, in \u001B[0;36mInteractiveShell.run_line_magic\u001B[0;34m(self, magic_name, line, _stack_depth)\u001B[0m\n\u001B[1;32m   2367\u001B[0m     kwargs[\u001B[38;5;124m'\u001B[39m\u001B[38;5;124mlocal_ns\u001B[39m\u001B[38;5;124m'\u001B[39m] \u001B[38;5;241m=\u001B[39m \u001B[38;5;28mself\u001B[39m\u001B[38;5;241m.\u001B[39mget_local_scope(stack_depth)\n\u001B[1;32m   2368\u001B[0m \u001B[38;5;28;01mwith\u001B[39;00m \u001B[38;5;28mself\u001B[39m\u001B[38;5;241m.\u001B[39mbuiltin_trap:\n\u001B[0;32m-> 2369\u001B[0m     result \u001B[38;5;241m=\u001B[39m \u001B[43mfn\u001B[49m\u001B[43m(\u001B[49m\u001B[38;5;241;43m*\u001B[39;49m\u001B[43margs\u001B[49m\u001B[43m,\u001B[49m\u001B[43m \u001B[49m\u001B[38;5;241;43m*\u001B[39;49m\u001B[38;5;241;43m*\u001B[39;49m\u001B[43mkwargs\u001B[49m\u001B[43m)\u001B[49m\n\u001B[1;32m   2371\u001B[0m \u001B[38;5;66;03m# The code below prevents the output from being displayed\u001B[39;00m\n\u001B[1;32m   2372\u001B[0m \u001B[38;5;66;03m# when using magics with decodator @output_can_be_silenced\u001B[39;00m\n\u001B[1;32m   2373\u001B[0m \u001B[38;5;66;03m# when the last Python token in the expression is a ';'.\u001B[39;00m\n\u001B[1;32m   2374\u001B[0m \u001B[38;5;28;01mif\u001B[39;00m \u001B[38;5;28mgetattr\u001B[39m(fn, magic\u001B[38;5;241m.\u001B[39mMAGIC_OUTPUT_CAN_BE_SILENCED, \u001B[38;5;28;01mFalse\u001B[39;00m):\n",
      "File \u001B[0;32m~/opt/anaconda3/envs/lib/python3.10/site-packages/IPython/core/magics/pylab.py:99\u001B[0m, in \u001B[0;36mPylabMagics.matplotlib\u001B[0;34m(self, line)\u001B[0m\n\u001B[1;32m     97\u001B[0m     \u001B[38;5;28mprint\u001B[39m(\u001B[38;5;124m\"\u001B[39m\u001B[38;5;124mAvailable matplotlib backends: \u001B[39m\u001B[38;5;132;01m%s\u001B[39;00m\u001B[38;5;124m\"\u001B[39m \u001B[38;5;241m%\u001B[39m backends_list)\n\u001B[1;32m     98\u001B[0m \u001B[38;5;28;01melse\u001B[39;00m:\n\u001B[0;32m---> 99\u001B[0m     gui, backend \u001B[38;5;241m=\u001B[39m \u001B[38;5;28;43mself\u001B[39;49m\u001B[38;5;241;43m.\u001B[39;49m\u001B[43mshell\u001B[49m\u001B[38;5;241;43m.\u001B[39;49m\u001B[43menable_matplotlib\u001B[49m\u001B[43m(\u001B[49m\u001B[43margs\u001B[49m\u001B[38;5;241;43m.\u001B[39;49m\u001B[43mgui\u001B[49m\u001B[38;5;241;43m.\u001B[39;49m\u001B[43mlower\u001B[49m\u001B[43m(\u001B[49m\u001B[43m)\u001B[49m\u001B[43m \u001B[49m\u001B[38;5;28;43;01mif\u001B[39;49;00m\u001B[43m \u001B[49m\u001B[38;5;28;43misinstance\u001B[39;49m\u001B[43m(\u001B[49m\u001B[43margs\u001B[49m\u001B[38;5;241;43m.\u001B[39;49m\u001B[43mgui\u001B[49m\u001B[43m,\u001B[49m\u001B[43m \u001B[49m\u001B[38;5;28;43mstr\u001B[39;49m\u001B[43m)\u001B[49m\u001B[43m \u001B[49m\u001B[38;5;28;43;01melse\u001B[39;49;00m\u001B[43m \u001B[49m\u001B[43margs\u001B[49m\u001B[38;5;241;43m.\u001B[39;49m\u001B[43mgui\u001B[49m\u001B[43m)\u001B[49m\n\u001B[1;32m    100\u001B[0m     \u001B[38;5;28mself\u001B[39m\u001B[38;5;241m.\u001B[39m_show_matplotlib_backend(args\u001B[38;5;241m.\u001B[39mgui, backend)\n",
      "File \u001B[0;32m~/opt/anaconda3/envs/lib/python3.10/site-packages/IPython/core/interactiveshell.py:3540\u001B[0m, in \u001B[0;36mInteractiveShell.enable_matplotlib\u001B[0;34m(self, gui)\u001B[0m\n\u001B[1;32m   3519\u001B[0m \u001B[38;5;28;01mdef\u001B[39;00m \u001B[38;5;21menable_matplotlib\u001B[39m(\u001B[38;5;28mself\u001B[39m, gui\u001B[38;5;241m=\u001B[39m\u001B[38;5;28;01mNone\u001B[39;00m):\n\u001B[1;32m   3520\u001B[0m     \u001B[38;5;124;03m\"\"\"Enable interactive matplotlib and inline figure support.\u001B[39;00m\n\u001B[1;32m   3521\u001B[0m \n\u001B[1;32m   3522\u001B[0m \u001B[38;5;124;03m    This takes the following steps:\u001B[39;00m\n\u001B[0;32m   (...)\u001B[0m\n\u001B[1;32m   3538\u001B[0m \u001B[38;5;124;03m        display figures inline.\u001B[39;00m\n\u001B[1;32m   3539\u001B[0m \u001B[38;5;124;03m    \"\"\"\u001B[39;00m\n\u001B[0;32m-> 3540\u001B[0m     \u001B[38;5;28;01mfrom\u001B[39;00m \u001B[38;5;21;01mmatplotlib_inline\u001B[39;00m\u001B[38;5;21;01m.\u001B[39;00m\u001B[38;5;21;01mbackend_inline\u001B[39;00m \u001B[38;5;28;01mimport\u001B[39;00m configure_inline_support\n\u001B[1;32m   3542\u001B[0m     \u001B[38;5;28;01mfrom\u001B[39;00m \u001B[38;5;21;01mIPython\u001B[39;00m\u001B[38;5;21;01m.\u001B[39;00m\u001B[38;5;21;01mcore\u001B[39;00m \u001B[38;5;28;01mimport\u001B[39;00m pylabtools \u001B[38;5;28;01mas\u001B[39;00m pt\n\u001B[1;32m   3543\u001B[0m     gui, backend \u001B[38;5;241m=\u001B[39m pt\u001B[38;5;241m.\u001B[39mfind_gui_and_backend(gui, \u001B[38;5;28mself\u001B[39m\u001B[38;5;241m.\u001B[39mpylab_gui_select)\n",
      "File \u001B[0;32m~/opt/anaconda3/envs/lib/python3.10/site-packages/matplotlib_inline/__init__.py:1\u001B[0m\n\u001B[0;32m----> 1\u001B[0m \u001B[38;5;28;01mfrom\u001B[39;00m \u001B[38;5;21;01m.\u001B[39;00m \u001B[38;5;28;01mimport\u001B[39;00m backend_inline, config  \u001B[38;5;66;03m# noqa\u001B[39;00m\n\u001B[1;32m      2\u001B[0m __version__ \u001B[38;5;241m=\u001B[39m \u001B[38;5;124m\"\u001B[39m\u001B[38;5;124m0.1.6\u001B[39m\u001B[38;5;124m\"\u001B[39m\n",
      "File \u001B[0;32m~/opt/anaconda3/envs/lib/python3.10/site-packages/matplotlib_inline/backend_inline.py:6\u001B[0m\n\u001B[1;32m      1\u001B[0m \u001B[38;5;124;03m\"\"\"A matplotlib backend for publishing figures via display_data\"\"\"\u001B[39;00m\n\u001B[1;32m      3\u001B[0m \u001B[38;5;66;03m# Copyright (c) IPython Development Team.\u001B[39;00m\n\u001B[1;32m      4\u001B[0m \u001B[38;5;66;03m# Distributed under the terms of the BSD 3-Clause License.\u001B[39;00m\n\u001B[0;32m----> 6\u001B[0m \u001B[38;5;28;01mimport\u001B[39;00m \u001B[38;5;21;01mmatplotlib\u001B[39;00m\n\u001B[1;32m      7\u001B[0m \u001B[38;5;28;01mfrom\u001B[39;00m \u001B[38;5;21;01mmatplotlib\u001B[39;00m \u001B[38;5;28;01mimport\u001B[39;00m colors\n\u001B[1;32m      8\u001B[0m \u001B[38;5;28;01mfrom\u001B[39;00m \u001B[38;5;21;01mmatplotlib\u001B[39;00m\u001B[38;5;21;01m.\u001B[39;00m\u001B[38;5;21;01mbackends\u001B[39;00m \u001B[38;5;28;01mimport\u001B[39;00m backend_agg\n",
      "\u001B[0;31mModuleNotFoundError\u001B[0m: No module named 'matplotlib'"
     ]
    }
   ],
   "source": [
    "%matplotlib inline\n",
    "\n",
    "from pprint import pprint\n",
    "from zen_garden.postprocess.results import Results"
   ]
  },
  {
   "cell_type": "markdown",
   "id": "8b60bf0f",
   "metadata": {},
   "source": [
    "### Working with results of a ZenGarden run\n",
    "\n",
    "This notebook shows some examples on how to handle the results of a `zen-garden` run. It uses the outputs of the tests as examples. Therefore, you need to run the tests via \n",
    "```\n",
    "coverage run --source=\"zen_garden\" -m pytest -v tests/testcases/run_test.py\n",
    "```\n",
    "to get the data."
   ]
  },
  {
   "cell_type": "markdown",
   "id": "5c57a7d1",
   "metadata": {},
   "source": [
    "### Reading in the results\n",
    "\n",
    "The results can be read in using the `Results` class. This will automatically read in all relevant files, independent of the number of scenarios or if the optimization was run with perfect or myopic foresight. However, you should know what type of input you are reading in, as the output of some routines will depend on the type."
   ]
  },
  {
   "cell_type": "code",
   "execution_count": null,
   "id": "759d7b05",
   "metadata": {
    "pycharm": {
     "is_executing": true
    }
   },
   "outputs": [],
   "source": [
    "# This has no scenarios and perfect foresight\n",
    "res_basic = Results(\"../outputs/test_1a/\")\n",
    "# Here we have three different scenarios\n",
    "res_scenario = Results(\"../outputs/test_6a/\")\n",
    "# This was run with myopic foresight\n",
    "res_mf = Results(\"../outputs/test_4g/\")\n",
    "# This was run with aggregated time steps and multi year\n",
    "res_ts = Results(\"../outputs/test_4f/\")"
   ]
  },
  {
   "cell_type": "markdown",
   "id": "a4b62c61",
   "metadata": {},
   "source": [
    "### Accessing the config\n",
    "\n",
    "The standard dictionaries, i.e. system, analysis, scenarios, solver and dict_sequence_time_steps can be accessed via the results dict."
   ]
  },
  {
   "cell_type": "code",
   "execution_count": null,
   "id": "31109ec9",
   "metadata": {
    "pycharm": {
     "is_executing": true
    }
   },
   "outputs": [],
   "source": [
    "# Show the analysis settings\n",
    "pprint(res_basic.results[\"analysis\"])"
   ]
  },
  {
   "cell_type": "markdown",
   "id": "899c758d",
   "metadata": {},
   "source": [
    "### Extracting individual data frames\n",
    "\n",
    "You can access individual data frames from any component with the `get_df` method. However, the behavior differs slightly for the usecases.\n",
    "If the optimization was run with perfect foresight and no scenarios, then the data frame is returned as `pandas.Series`. For myopic foresight, the final dataframe is stiched together from the relevant outputs if the component is set yearly. If multiple scenarios were run, a dictionary containing the data frame for all different scenarios is returned. However, you can specify the scenario in advance, then only a single data frame is returned.\n",
    "\n",
    "Additionally, the method provides a shortcut to save the extracted dataframe directly to a CSV, or in case of different scenarios to a bundle of CSV files."
   ]
  },
  {
   "cell_type": "code",
   "execution_count": null,
   "id": "a5c033eb",
   "metadata": {
    "pycharm": {
     "is_executing": true
    }
   },
   "outputs": [],
   "source": [
    "# This will return a single data frame\n",
    "df = res_basic.get_df('export_carrier_flow')\n",
    "df"
   ]
  },
  {
   "cell_type": "code",
   "execution_count": null,
   "id": "ad9bb4be",
   "metadata": {
    "pycharm": {
     "is_executing": true
    }
   },
   "outputs": [],
   "source": [
    "# you can also save the dataframe directly to a csv:\n",
    "df = res_basic.get_df('carbon_emissions_overshoot', to_csv=\"test\")\n",
    "# this prints out the content of the generated csv\n",
    "!cat test.csv"
   ]
  },
  {
   "cell_type": "code",
   "execution_count": null,
   "id": "73f89cf6",
   "metadata": {
    "pycharm": {
     "is_executing": true
    }
   },
   "outputs": [],
   "source": [
    "# if we have multiple scenarios, all dataframe will be returned in a dict\n",
    "df_dict = res_scenario.get_df('export_carrier_flow')\n",
    "pprint(df_dict)"
   ]
  },
  {
   "cell_type": "code",
   "execution_count": null,
   "id": "083fd0f7",
   "metadata": {
    "pycharm": {
     "is_executing": true
    }
   },
   "outputs": [],
   "source": [
    "# saving this to a csv will create a file for each scenario\n",
    "df_dict = res_scenario.get_df('export_carrier_flow', to_csv=\"test2\")\n",
    "# list files and print content of one\n",
    "!echo \"Generated files: \"\n",
    "!ls test2*\n",
    "!echo \n",
    "!echo \"Output of test2_scenario_2.csv\"\n",
    "!cat test2_scenario_2.csv"
   ]
  },
  {
   "cell_type": "code",
   "execution_count": null,
   "id": "840a10af",
   "metadata": {
    "pycharm": {
     "is_executing": true
    }
   },
   "outputs": [],
   "source": [
    "# we can also specify a specific scneario\n",
    "df = res_scenario.get_df('export_carrier_flow', scenario=\"scenario_2\")\n",
    "df"
   ]
  },
  {
   "cell_type": "code",
   "execution_count": null,
   "id": "e238b0ad",
   "metadata": {
    "pycharm": {
     "is_executing": true
    }
   },
   "outputs": [],
   "source": [
    "# This will collect the values from the results folders of the different myopic foresight runs\n",
    "df = res_mf.get_df(\"carbon_emissions_cumulative\")\n",
    "df"
   ]
  },
  {
   "cell_type": "markdown",
   "id": "27e2353e",
   "metadata": {},
   "source": [
    "### Helper functions\n",
    "\n",
    "The `Results` class implements some helper functions. The function `get_total` allows you to calculate the total Value of a component, for a given year, element and scenario if desired. And the function `get_full_ts` calculates the full (disaggregate) time series for a given component."
   ]
  },
  {
   "cell_type": "code",
   "execution_count": null,
   "id": "ecbff0b5",
   "metadata": {
    "pycharm": {
     "is_executing": true
    }
   },
   "outputs": [],
   "source": [
    "# We read out a normal dataframe\n",
    "df = res_mf.get_df(\"input_flow\")\n",
    "print(df)"
   ]
  },
  {
   "cell_type": "code",
   "execution_count": null,
   "id": "8a2646b6",
   "metadata": {
    "pycharm": {
     "is_executing": true
    }
   },
   "outputs": [],
   "source": [
    "# We can calculate the total value of the dataframe\n",
    "res_mf.get_total(df)"
   ]
  },
  {
   "cell_type": "code",
   "execution_count": null,
   "id": "6662d5c0",
   "metadata": {
    "pycharm": {
     "is_executing": true
    }
   },
   "outputs": [],
   "source": [
    "# and also get the full timeseries (disaggregate) if we want\n",
    "df_disaggregate = res_mf.get_full_ts(df)\n",
    "df_disaggregate"
   ]
  },
  {
   "cell_type": "markdown",
   "id": "d93750ec",
   "metadata": {},
   "source": [
    "### Some Plots\n",
    "\n",
    "Here could be some example plots"
   ]
  },
  {
   "cell_type": "code",
   "execution_count": null,
   "id": "392024c9",
   "metadata": {},
   "outputs": [],
   "source": []
  }
 ],
 "metadata": {
  "kernelspec": {
   "name": "python3",
   "language": "python",
   "display_name": "Python 3 (ipykernel)"
  },
  "language_info": {
   "codemirror_mode": {
    "name": "ipython",
    "version": 3
   },
   "file_extension": ".py",
   "mimetype": "text/x-python",
   "name": "python",
   "nbconvert_exporter": "python",
   "pygments_lexer": "ipython3",
   "version": "3.9.13"
  }
 },
 "nbformat": 4,
 "nbformat_minor": 5
}
