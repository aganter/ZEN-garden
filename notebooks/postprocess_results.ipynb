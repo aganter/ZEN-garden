{
 "cells": [
  {
   "cell_type": "code",
   "execution_count": 4,
   "id": "afa01060",
   "metadata": {},
   "outputs": [
    {
     "name": "stdout",
     "output_type": "stream",
     "text": [
      "The autoreload extension is already loaded. To reload it, use:\n",
      "  %reload_ext autoreload\n"
     ]
    }
   ],
   "source": [
    "%load_ext autoreload\n",
    "%autoreload 2"
   ]
  },
  {
   "cell_type": "code",
   "execution_count": 5,
   "id": "3920350b",
   "metadata": {},
   "outputs": [],
   "source": [
    "%matplotlib inline\n",
    "\n",
    "from pprint import pprint\n",
    "from zen_garden.postprocess.results import Results"
   ]
  },
  {
   "cell_type": "markdown",
   "id": "8b60bf0f",
   "metadata": {},
   "source": [
    "### Working with results of a ZenGarden run\n",
    "\n",
    "This notebook shows some examples on how to handle the results of a `zen-garden` run. It uses the outputs of the tests as examples. Therefore, you need to run the tests via \n",
    "```\n",
    "coverage run --source=\"zen_garden\" -m pytest -v tests/testcases/run_test.py\n",
    "```\n",
    "to get the data."
   ]
  },
  {
   "cell_type": "markdown",
   "id": "5c57a7d1",
   "metadata": {},
   "source": [
    "### Reading in the results\n",
    "\n",
    "The results can be read in using the `Results` class. This will automatically read in all relevant files, independent of the number of scenarios or if the optimization was run with perfect or myopic foresight. However, you should know what type of input you are reading in, as the output of some routines will depend on the type."
   ]
  },
  {
   "cell_type": "code",
   "execution_count": 6,
   "id": "759d7b05",
   "metadata": {},
   "outputs": [],
   "source": [
    "# This has no scenarios and perfect foresight\n",
    "res_basic = Results(\"../outputs/test_1a/\")\n",
    "# Here we have three different scenarios\n",
    "res_scenario = Results(\"../outputs/test_6a/\")\n",
    "# This was run with myopic foresight\n",
    "res_mf = Results(\"../outputs/test_4g/\")\n",
    "# This was run with aggregated time steps and multi year\n",
    "res_ts = Results(\"../outputs/test_4f/\")"
   ]
  },
  {
   "cell_type": "markdown",
   "id": "a4b62c61",
   "metadata": {},
   "source": [
    "### Accessing the config\n",
    "\n",
    "The standard dictionaries, i.e. system, analysis, scenarios, solver and dictSequenceTimeSteps can be accessed via the results dict."
   ]
  },
  {
   "cell_type": "code",
   "execution_count": 4,
   "id": "31109ec9",
   "metadata": {},
   "outputs": [
    {
     "name": "stdout",
     "output_type": "stream",
     "text": [
      "{'compressOutput': True,\n",
      " 'dataset': 'C:\\\\Users\\\\jmannhardt\\\\polybox\\\\PhD\\\\02-ZEN\\\\ZEN-garden\\\\tests\\\\testcases\\\\test_1a',\n",
      " 'discountRate': 0.06,\n",
      " 'fileFormat': 'csv',\n",
      " 'folderNameSystemSpecification': 'systemSpecification',\n",
      " 'folderOutput': 'C:\\\\Users\\\\jmannhardt\\\\polybox\\\\PhD\\\\02-ZEN\\\\ZEN-garden\\\\outputs',\n",
      " 'headerDataInputs': {'setCapacityTypes': 'capacityType',\n",
      "                      'setCarriers': 'carrier',\n",
      "                      'setConversionTechnologies': 'technology',\n",
      "                      'setDependentCarriers': 'carrier',\n",
      "                      'setEdges': 'edge',\n",
      "                      'setElements': 'element',\n",
      "                      'setExistingTechnologies': 'existingTechnology',\n",
      "                      'setInputCarriers': 'carrier',\n",
      "                      'setLocation': 'location',\n",
      "                      'setNodes': 'node',\n",
      "                      'setOutputCarriers': 'carrier',\n",
      "                      'setScenarios': 'scenario',\n",
      "                      'setStorageTechnologies': 'technology',\n",
      "                      'setTechnologies': 'technology',\n",
      "                      'setTimeSteps': 'time',\n",
      "                      'setTimeStepsOperation': 'timeOperation',\n",
      "                      'setTimeStepsStorageLevel': 'timeStorageLevel',\n",
      "                      'setTimeStepsYearly': 'year',\n",
      "                      'setTimeStepsYearlyEntireHorizon': 'year',\n",
      "                      'setTransportTechnologies': 'technology'},\n",
      " 'maxOutputSizeMB': 500,\n",
      " 'objective': 'TotalCost',\n",
      " 'overwriteOutput': True,\n",
      " 'postprocess': False,\n",
      " 'sense': 'minimize',\n",
      " 'subsets': {'setCarriers': [],\n",
      "             'setConversionTechnologies': ['setConditioningTechnologies'],\n",
      "             'setTechnologies': ['setConversionTechnologies',\n",
      "                                 'setTransportTechnologies',\n",
      "                                 'setStorageTechnologies']},\n",
      " 'timeSeriesAggregation': {'clusterMethod': 'k_means',\n",
      "                           'extremePeriodMethod': 'None',\n",
      "                           'hoursPerPeriod': 1,\n",
      "                           'noSegments': 12,\n",
      "                           'representationMethod': 'meanRepresentation',\n",
      "                           'rescaleClusterPeriods': False,\n",
      "                           'resolution': 1,\n",
      "                           'segmentation': False,\n",
      "                           'solver': 'gurobi'},\n",
      " 'transportDistance': 'Euclidean',\n",
      " 'useExistingCapacities': True,\n",
      " 'writeResultsYML': False}\n"
     ]
    }
   ],
   "source": [
    "# Show the analysis settings\n",
    "pprint(res_basic.results[\"analysis\"])"
   ]
  },
  {
   "cell_type": "markdown",
   "id": "899c758d",
   "metadata": {},
   "source": [
    "### Extracting individual data frames\n",
    "\n",
    "You can access individual data frames from any component with the `get_df` method. However, the behavior differs slightly for the usecases.\n",
    "If the optimization was run with perfect foresight and no scenarios, then the data frame is returned as `pandas.Series`. For myopic foresight, the final dataframe is stiched together from the relevant outputs if the component is set yearly. If multiple scenarios were run, a dictionary containing the data frame for all different scenarios is returned. However, you can specify the scenario in advance, then only a single data frame is returned.\n",
    "\n",
    "Additionally, the method provides a shortcut to save the extracted dataframe directly to a CSV, or in case of different scenarios to a bundle of CSV files."
   ]
  },
  {
   "cell_type": "code",
   "execution_count": 5,
   "id": "a5c033eb",
   "metadata": {},
   "outputs": [
    {
     "data": {
      "text/plain": [
       "carrier      node  timeOperation\n",
       "heat         CH    0                0.0\n",
       "             DE    0                0.0\n",
       "natural_gas  CH    0                0.0\n",
       "             DE    0                0.0\n",
       "Name: exportCarrierFlow, dtype: float64"
      ]
     },
     "execution_count": 5,
     "metadata": {},
     "output_type": "execute_result"
    }
   ],
   "source": [
    "# This will return a single data frame\n",
    "df = res_basic.get_df('exportCarrierFlow')\n",
    "df"
   ]
  },
  {
   "cell_type": "code",
   "execution_count": 6,
   "id": "ad9bb4be",
   "metadata": {},
   "outputs": [
    {
     "name": "stderr",
     "output_type": "stream",
     "text": [
      "'cat' is not recognized as an internal or external command,\n",
      "operable program or batch file.\n"
     ]
    }
   ],
   "source": [
    "# you can also save the dataframe directly to a csv:\n",
    "df = res_basic.get_df('carbonEmissionsOvershoot', to_csv=\"test\")\n",
    "# this prints out the content of the generated csv\n",
    "!cat test.csv"
   ]
  },
  {
   "cell_type": "code",
   "execution_count": 7,
   "id": "73f89cf6",
   "metadata": {},
   "outputs": [
    {
     "name": "stdout",
     "output_type": "stream",
     "text": [
      "{'scenario_': carrier      node  timeOperation\n",
      "heat         CH    0                0.0\n",
      "             DE    0                0.0\n",
      "natural_gas  CH    0                0.0\n",
      "             DE    0                0.0\n",
      "Name: exportCarrierFlow, dtype: float64,\n",
      " 'scenario_2': carrier      node  timeOperation\n",
      "heat         CH    0                0.0\n",
      "             DE    0                0.0\n",
      "natural_gas  CH    0                0.0\n",
      "             DE    0                0.0\n",
      "Name: exportCarrierFlow, dtype: float64,\n",
      " 'scenario_3': carrier      node  timeOperation\n",
      "heat         CH    0                0.0\n",
      "             DE    0                0.0\n",
      "natural_gas  CH    0                0.0\n",
      "             DE    0                0.0\n",
      "Name: exportCarrierFlow, dtype: float64}\n"
     ]
    }
   ],
   "source": [
    "# if we have multiple scenarios, all dataframe will be returned in a dict\n",
    "df_dict = res_scenario.get_df('exportCarrierFlow')\n",
    "pprint(df_dict)"
   ]
  },
  {
   "cell_type": "code",
   "execution_count": 8,
   "id": "083fd0f7",
   "metadata": {},
   "outputs": [
    {
     "name": "stdout",
     "output_type": "stream",
     "text": [
      "\"Generated files: \"\n"
     ]
    },
    {
     "name": "stderr",
     "output_type": "stream",
     "text": [
      "'ls' is not recognized as an internal or external command,\n",
      "operable program or batch file.\n"
     ]
    },
    {
     "name": "stdout",
     "output_type": "stream",
     "text": [
      "ECHO is on.\n",
      "\"Output of test2_scenario_2.csv\"\n"
     ]
    },
    {
     "name": "stderr",
     "output_type": "stream",
     "text": [
      "'cat' is not recognized as an internal or external command,\n",
      "operable program or batch file.\n"
     ]
    }
   ],
   "source": [
    "# saving this to a csv will create a file for each scenario\n",
    "df_dict = res_scenario.get_df('exportCarrierFlow', to_csv=\"test2\")\n",
    "# list files and print content of one\n",
    "!echo \"Generated files: \"\n",
    "!ls test2*\n",
    "!echo \n",
    "!echo \"Output of test2_scenario_2.csv\"\n",
    "!cat test2_scenario_2.csv"
   ]
  },
  {
   "cell_type": "code",
   "execution_count": 9,
   "id": "840a10af",
   "metadata": {},
   "outputs": [
    {
     "data": {
      "text/plain": [
       "carrier      node  timeOperation\n",
       "heat         CH    0                0.0\n",
       "             DE    0                0.0\n",
       "natural_gas  CH    0                0.0\n",
       "             DE    0                0.0\n",
       "Name: exportCarrierFlow, dtype: float64"
      ]
     },
     "execution_count": 9,
     "metadata": {},
     "output_type": "execute_result"
    }
   ],
   "source": [
    "# we can also specify a specific scneario\n",
    "df = res_scenario.get_df('exportCarrierFlow', scenario=\"scenario_2\")\n",
    "df"
   ]
  },
  {
   "cell_type": "code",
   "execution_count": 8,
   "id": "e238b0ad",
   "metadata": {},
   "outputs": [
    {
     "data": {
      "text/plain": [
       "0    149.341143\n",
       "1    298.682286\n",
       "2    448.023428\n",
       "Name: carbonEmissionsCumulative, dtype: float64"
      ]
     },
     "execution_count": 8,
     "metadata": {},
     "output_type": "execute_result"
    }
   ],
   "source": [
    "# This will collect the values from the results folders of the different myopic foresight runs\n",
    "df = res_mf.get_df(\"carbonEmissionsCumulative\")\n",
    "df"
   ]
  },
  {
   "cell_type": "markdown",
   "id": "27e2353e",
   "metadata": {},
   "source": [
    "### Helper functions\n",
    "\n",
    "The `Results` class implements some helper functions. The function `getTotal` allows you to calculate the total Value of a component, for a given year, element and scenario if desired. And the function `getFullTS` calculates the full (disaggregate) time series for a given component."
   ]
  },
  {
   "cell_type": "code",
   "execution_count": 9,
   "id": "ecbff0b5",
   "metadata": {},
   "outputs": [
    {
     "name": "stdout",
     "output_type": "stream",
     "text": [
      "technology          carrier      node  timeOperation\n",
      "natural_gas_boiler  natural_gas  CH    0                  3.875823\n",
      "                                       1                  3.875823\n",
      "                                       2                  3.875823\n",
      "                                       3                 16.909306\n",
      "                                       4                 16.909306\n",
      "                                       5                 16.909306\n",
      "                                       6                 27.856524\n",
      "                                       7                 27.856524\n",
      "                                       8                 27.856524\n",
      "                                       9                 10.738593\n",
      "                                       10                10.738593\n",
      "                                       11                10.738593\n",
      "                                       12                31.583558\n",
      "                                       13                31.583558\n",
      "                                       14                31.583558\n",
      "                                       15                20.973992\n",
      "                                       16                20.973992\n",
      "                                       17                20.973992\n",
      "                                       18                 7.124970\n",
      "                                       19                 7.124970\n",
      "                                       20                 7.124970\n",
      "                                       21                24.445700\n",
      "                                       22                24.445700\n",
      "                                       23                24.445700\n",
      "                                       24                 1.351937\n",
      "                                       25                 1.351937\n",
      "                                       26                 1.351937\n",
      "                                       27                13.799864\n",
      "                                       28                13.799864\n",
      "                                       29                13.799864\n",
      "                                 DE    0                 25.931900\n",
      "                                       1                 25.931900\n",
      "                                       2                 25.931900\n",
      "                                       3                 97.009886\n",
      "                                       4                 97.009886\n",
      "                                       5                 97.009886\n",
      "                                       6                156.288835\n",
      "                                       7                156.288835\n",
      "                                       8                156.288835\n",
      "                                       9                 63.274562\n",
      "                                       10                63.274562\n",
      "                                       11                63.274562\n",
      "                                       12               182.559451\n",
      "                                       13               182.559451\n",
      "                                       14               182.559451\n",
      "                                       15               114.846837\n",
      "                                       16               114.846837\n",
      "                                       17               114.846837\n",
      "                                       18                45.764903\n",
      "                                       19                45.764903\n",
      "                                       20                45.764903\n",
      "                                       21               133.970514\n",
      "                                       22               133.970514\n",
      "                                       23               133.970514\n",
      "                                       24                14.239237\n",
      "                                       25                14.239237\n",
      "                                       26                14.239237\n",
      "                                       27                80.040651\n",
      "                                       28                80.040651\n",
      "                                       29                80.040651\n",
      "Name: inputFlow, dtype: float64\n"
     ]
    }
   ],
   "source": [
    "# We read out a normal dataframe\n",
    "df = res_mf.get_df(\"inputFlow\")\n",
    "print(df)"
   ]
  },
  {
   "cell_type": "code",
   "execution_count": 10,
   "id": "8a2646b6",
   "metadata": {},
   "outputs": [
    {
     "data": {
      "text/plain": [
       "technology          carrier      node\n",
       "natural_gas_boiler  natural_gas  CH      3.237618e+05\n",
       "                                 DE      1.894616e+06\n",
       "dtype: float64"
      ]
     },
     "execution_count": 10,
     "metadata": {},
     "output_type": "execute_result"
    }
   ],
   "source": [
    "# We can calculate the total value of the dataframe\n",
    "res_mf.getTotal(df)"
   ]
  },
  {
   "cell_type": "code",
   "execution_count": 11,
   "id": "6662d5c0",
   "metadata": {},
   "outputs": [
    {
     "data": {
      "text/plain": [
       "natural_gas_boiler  natural_gas  CH  0         16.909306\n",
       "                                     1         20.973992\n",
       "                                     2         20.973992\n",
       "                                     3         24.445700\n",
       "                                     4         31.583558\n",
       "                                                 ...    \n",
       "                                 DE  26275    182.559451\n",
       "                                     26276    182.559451\n",
       "                                     26277    156.288835\n",
       "                                     26278    114.846837\n",
       "                                     26279    114.846837\n",
       "Length: 52560, dtype: float64"
      ]
     },
     "execution_count": 11,
     "metadata": {},
     "output_type": "execute_result"
    }
   ],
   "source": [
    "# and also get the full timeseries (disaggregate) if we want\n",
    "df_disaggregate = res_mf.getFullTS(df)\n",
    "df_disaggregate"
   ]
  },
  {
   "cell_type": "markdown",
   "id": "d93750ec",
   "metadata": {},
   "source": [
    "### Some Plots\n",
    "\n",
    "Here could be some example plots"
   ]
  },
  {
   "cell_type": "code",
   "execution_count": null,
   "id": "392024c9",
   "metadata": {},
   "outputs": [],
   "source": []
  }
 ],
 "metadata": {
  "kernelspec": {
   "display_name": "Python 3 (ipykernel)",
   "language": "python",
   "name": "python3"
  },
  "language_info": {
   "codemirror_mode": {
    "name": "ipython",
    "version": 3
   },
   "file_extension": ".py",
   "mimetype": "text/x-python",
   "name": "python",
   "nbconvert_exporter": "python",
   "pygments_lexer": "ipython3",
   "version": "3.9.13"
  }
 },
 "nbformat": 4,
 "nbformat_minor": 5
}