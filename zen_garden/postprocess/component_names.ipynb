{
 "cells": [
  {
   "cell_type": "code",
   "execution_count": 1,
   "id": "initial_id",
   "metadata": {
    "collapsed": true,
    "ExecuteTime": {
     "end_time": "2023-12-08T16:27:24.477866Z",
     "start_time": "2023-12-08T16:27:24.364865Z"
    }
   },
   "outputs": [
    {
     "ename": "NameError",
     "evalue": "name 'results' is not defined",
     "output_type": "error",
     "traceback": [
      "\u001B[0;31m---------------------------------------------------------------------------\u001B[0m",
      "\u001B[0;31mNameError\u001B[0m                                 Traceback (most recent call last)",
      "Cell \u001B[0;32mIn[1], line 4\u001B[0m\n\u001B[1;32m      1\u001B[0m \u001B[38;5;66;03m# Assuming you have a 'Results' object with a 'component_names' attribute\u001B[39;00m\n\u001B[1;32m      2\u001B[0m \n\u001B[1;32m      3\u001B[0m \u001B[38;5;66;03m# Access the 'component_names' dictionary\u001B[39;00m\n\u001B[0;32m----> 4\u001B[0m component_names_dict \u001B[38;5;241m=\u001B[39m \u001B[43mresults\u001B[49m\u001B[38;5;241m.\u001B[39mcomponent_names\n\u001B[1;32m      6\u001B[0m \u001B[38;5;66;03m# Access the 'pars' and 'vars' dictionaries\u001B[39;00m\n\u001B[1;32m      7\u001B[0m pars_dict \u001B[38;5;241m=\u001B[39m component_names_dict[\u001B[38;5;124m'\u001B[39m\u001B[38;5;124mpars\u001B[39m\u001B[38;5;124m'\u001B[39m]\n",
      "\u001B[0;31mNameError\u001B[0m: name 'results' is not defined"
     ]
    }
   ],
   "source": [
    "# Assuming you have a 'Results' object with a 'component_names' attribute\n",
    "\n",
    "# Access the 'component_names' dictionary\n",
    "component_names_dict = results.component_names\n",
    "\n",
    "# Access the 'pars' and 'vars' dictionaries\n",
    "pars_dict = component_names_dict['pars']\n",
    "vars_dict = component_names_dict['vars']\n",
    "\n",
    "# Get parameter and variable names\n",
    "parameter_names = list(pars_dict.keys())\n",
    "variable_names = list(vars_dict.keys())\n",
    "\n",
    "# Print the parameter and variable names\n",
    "print(\"Parameter Names:\", parameter_names)\n",
    "print(\"Variable Names:\", variable_names)"
   ]
  },
  {
   "cell_type": "code",
   "execution_count": null,
   "outputs": [],
   "source": [],
   "metadata": {
    "collapsed": false
   },
   "id": "c0f4af12609dfdb6"
  }
 ],
 "metadata": {
  "kernelspec": {
   "display_name": "Python 3",
   "language": "python",
   "name": "python3"
  },
  "language_info": {
   "codemirror_mode": {
    "name": "ipython",
    "version": 2
   },
   "file_extension": ".py",
   "mimetype": "text/x-python",
   "name": "python",
   "nbconvert_exporter": "python",
   "pygments_lexer": "ipython2",
   "version": "2.7.6"
  }
 },
 "nbformat": 4,
 "nbformat_minor": 5
}
